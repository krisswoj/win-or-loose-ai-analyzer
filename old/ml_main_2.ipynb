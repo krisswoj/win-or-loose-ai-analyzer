{
 "cells": [
  {
   "cell_type": "code",
   "execution_count": 1,
   "metadata": {},
   "outputs": [
    {
     "name": "stdout",
     "output_type": "stream",
     "text": [
      "2.2.0\n"
     ]
    }
   ],
   "source": [
    "from biosignal_and_tetris_result_service import get_player_results\n",
    "\n",
    "import numpy as np\n",
    "import pandas as pd\n",
    "import seaborn as sns\n",
    "import tensorflow as tf\n",
    "from sklearn.model_selection import train_test_split\n",
    "from sklearn.preprocessing import MinMaxScaler\n",
    "from tensorflow.keras.models import Sequential\n",
    "from tensorflow.keras.layers import Dense, Dropout, LSTM\n",
    "from sklearn.metrics import confusion_matrix\n",
    "from tensorflow.keras.optimizers import Adam\n",
    "\n",
    "\n",
    "# Make numpy printouts easier to read.\n",
    "np.set_printoptions(precision=3, suppress=True)\n",
    "pd.set_option('display.max_columns', None)\n",
    "print(tf.__version__)\n",
    "\n",
    "%run biosignal_and_tetris_result_service.ipynb"
   ]
  },
  {
   "cell_type": "code",
   "execution_count": 2,
   "metadata": {},
   "outputs": [],
   "source": [
    "results = get_player_results()\n",
    "\n",
    "df = results['E03_R02_S01'][0]['p1']\n",
    "\n",
    "X = df.drop(['Czas','Draw','Lose','Win'],axis=1).values\n",
    "y = df[['Win', 'Lose', 'Draw']].values\n",
    "\n",
    "X_train, X_test, y_train, y_test = train_test_split(X, y, test_size=0.30, random_state=101)\n",
    "\n",
    "scaler = MinMaxScaler()\n",
    "X_train = scaler.fit_transform(X_train)\n",
    "X_test = scaler.transform(X_test)"
   ]
  },
  {
   "cell_type": "code",
   "execution_count": 3,
   "metadata": {},
   "outputs": [],
   "source": [
    "X_train = X_train.reshape(-1, 1, 5)\n",
    "X_test  = X_test.reshape(-1, 1, 5)\n",
    "y_train = y_train.reshape(-1, 1, 3)\n",
    "y_test = y_test.reshape(-1, 1, 3)"
   ]
  },
  {
   "cell_type": "code",
   "execution_count": 35,
   "metadata": {},
   "outputs": [
    {
     "name": "stdout",
     "output_type": "stream",
     "text": [
      "Epoch 1/100\n",
      "WARNING:tensorflow:AutoGraph could not transform <function Model.make_train_function.<locals>.train_function at 0x7f8d20c36b90> and will run it as-is.\n",
      "Please report this to the TensorFlow team. When filing the bug, set the verbosity to 10 (on Linux, `export AUTOGRAPH_VERBOSITY=10`) and attach the full output.\n",
      "Cause: Bad argument number for Name: 4, expecting 3\n",
      "To silence this warning, decorate the function with @tf.autograph.experimental.do_not_convert\n",
      "WARNING: AutoGraph could not transform <function Model.make_train_function.<locals>.train_function at 0x7f8d20c36b90> and will run it as-is.\n",
      "Please report this to the TensorFlow team. When filing the bug, set the verbosity to 10 (on Linux, `export AUTOGRAPH_VERBOSITY=10`) and attach the full output.\n",
      "Cause: Bad argument number for Name: 4, expecting 3\n",
      "To silence this warning, decorate the function with @tf.autograph.experimental.do_not_convert\n",
      "21/22 [===========================>..] - ETA: 0s - loss: 1.0831 - accuracy: 0.5385WARNING:tensorflow:AutoGraph could not transform <function Model.make_test_function.<locals>.test_function at 0x7f8d23bb45f0> and will run it as-is.\n",
      "Please report this to the TensorFlow team. When filing the bug, set the verbosity to 10 (on Linux, `export AUTOGRAPH_VERBOSITY=10`) and attach the full output.\n",
      "Cause: Bad argument number for Name: 4, expecting 3\n",
      "To silence this warning, decorate the function with @tf.autograph.experimental.do_not_convert\n",
      "WARNING: AutoGraph could not transform <function Model.make_test_function.<locals>.test_function at 0x7f8d23bb45f0> and will run it as-is.\n",
      "Please report this to the TensorFlow team. When filing the bug, set the verbosity to 10 (on Linux, `export AUTOGRAPH_VERBOSITY=10`) and attach the full output.\n",
      "Cause: Bad argument number for Name: 4, expecting 3\n",
      "To silence this warning, decorate the function with @tf.autograph.experimental.do_not_convert\n",
      "22/22 [==============================] - 2s 85ms/step - loss: 1.0822 - accuracy: 0.5396 - val_loss: 1.0640 - val_accuracy: 0.5187\n",
      "Epoch 2/100\n",
      "22/22 [==============================] - 0s 17ms/step - loss: 1.0293 - accuracy: 0.5381 - val_loss: 1.0230 - val_accuracy: 0.5187\n",
      "Epoch 3/100\n",
      "22/22 [==============================] - 0s 16ms/step - loss: 0.9910 - accuracy: 0.5381 - val_loss: 0.9894 - val_accuracy: 0.5187\n",
      "Epoch 4/100\n",
      "22/22 [==============================] - 0s 19ms/step - loss: 0.9337 - accuracy: 0.5381 - val_loss: 0.8881 - val_accuracy: 0.5187\n",
      "Epoch 5/100\n",
      "22/22 [==============================] - 0s 15ms/step - loss: 0.8188 - accuracy: 0.5626 - val_loss: 0.7715 - val_accuracy: 0.6113\n",
      "Epoch 6/100\n",
      "22/22 [==============================] - 0s 15ms/step - loss: 0.7490 - accuracy: 0.6325 - val_loss: 0.7402 - val_accuracy: 0.6474\n",
      "Epoch 7/100\n",
      "22/22 [==============================] - 0s 14ms/step - loss: 0.7248 - accuracy: 0.6437 - val_loss: 0.7179 - val_accuracy: 0.6504\n",
      "Epoch 8/100\n",
      "22/22 [==============================] - 0s 15ms/step - loss: 0.7109 - accuracy: 0.6559 - val_loss: 0.7038 - val_accuracy: 0.6678\n",
      "Epoch 9/100\n",
      "22/22 [==============================] - 0s 17ms/step - loss: 0.6991 - accuracy: 0.6674 - val_loss: 0.6964 - val_accuracy: 0.6814\n",
      "Epoch 10/100\n",
      "22/22 [==============================] - 0s 15ms/step - loss: 0.6903 - accuracy: 0.6769 - val_loss: 0.6849 - val_accuracy: 0.6896\n",
      "Epoch 11/100\n",
      "22/22 [==============================] - 0s 16ms/step - loss: 0.6828 - accuracy: 0.6762 - val_loss: 0.6778 - val_accuracy: 0.6854\n",
      "Epoch 12/100\n",
      "22/22 [==============================] - 0s 15ms/step - loss: 0.6757 - accuracy: 0.6756 - val_loss: 0.6698 - val_accuracy: 0.6798\n",
      "Epoch 13/100\n",
      "22/22 [==============================] - 0s 17ms/step - loss: 0.6689 - accuracy: 0.6691 - val_loss: 0.6677 - val_accuracy: 0.7039\n",
      "Epoch 14/100\n",
      "22/22 [==============================] - 0s 15ms/step - loss: 0.6630 - accuracy: 0.6784 - val_loss: 0.6615 - val_accuracy: 0.6690\n",
      "Epoch 15/100\n",
      "22/22 [==============================] - 0s 16ms/step - loss: 0.6553 - accuracy: 0.6734 - val_loss: 0.6496 - val_accuracy: 0.7073\n",
      "Epoch 16/100\n",
      "22/22 [==============================] - 0s 15ms/step - loss: 0.6465 - accuracy: 0.6805 - val_loss: 0.6363 - val_accuracy: 0.6697\n",
      "Epoch 17/100\n",
      "22/22 [==============================] - 0s 15ms/step - loss: 0.6400 - accuracy: 0.6790 - val_loss: 0.6296 - val_accuracy: 0.6791\n",
      "Epoch 18/100\n",
      "22/22 [==============================] - 0s 20ms/step - loss: 0.6319 - accuracy: 0.6820 - val_loss: 0.6225 - val_accuracy: 0.7108\n",
      "Epoch 19/100\n",
      "22/22 [==============================] - 0s 16ms/step - loss: 0.6181 - accuracy: 0.6909 - val_loss: 0.6056 - val_accuracy: 0.7045\n",
      "Epoch 20/100\n",
      "22/22 [==============================] - 0s 15ms/step - loss: 0.6032 - accuracy: 0.6936 - val_loss: 0.5931 - val_accuracy: 0.6833\n",
      "Epoch 21/100\n",
      "22/22 [==============================] - 0s 16ms/step - loss: 0.5846 - accuracy: 0.6980 - val_loss: 0.5678 - val_accuracy: 0.7499\n",
      "Epoch 22/100\n",
      "22/22 [==============================] - 0s 18ms/step - loss: 0.5605 - accuracy: 0.7325 - val_loss: 0.5412 - val_accuracy: 0.7379\n",
      "Epoch 23/100\n",
      "22/22 [==============================] - 0s 15ms/step - loss: 0.5255 - accuracy: 0.7630 - val_loss: 0.5028 - val_accuracy: 0.8026\n",
      "Epoch 24/100\n",
      "22/22 [==============================] - 0s 15ms/step - loss: 0.4838 - accuracy: 0.7708 - val_loss: 0.4647 - val_accuracy: 0.7621\n",
      "Epoch 25/100\n",
      "22/22 [==============================] - 0s 15ms/step - loss: 0.4601 - accuracy: 0.7673 - val_loss: 0.4515 - val_accuracy: 0.7772\n",
      "Epoch 26/100\n",
      "22/22 [==============================] - 0s 18ms/step - loss: 0.4343 - accuracy: 0.7675 - val_loss: 0.4304 - val_accuracy: 0.7625\n",
      "Epoch 27/100\n",
      "22/22 [==============================] - 0s 16ms/step - loss: 0.4246 - accuracy: 0.7740 - val_loss: 0.4360 - val_accuracy: 0.7722\n",
      "Epoch 28/100\n",
      "22/22 [==============================] - 0s 16ms/step - loss: 0.4089 - accuracy: 0.7815 - val_loss: 0.4170 - val_accuracy: 0.7789\n",
      "Epoch 29/100\n",
      "22/22 [==============================] - 0s 19ms/step - loss: 0.4006 - accuracy: 0.7879 - val_loss: 0.3962 - val_accuracy: 0.7829\n",
      "Epoch 30/100\n",
      "22/22 [==============================] - 0s 17ms/step - loss: 0.3883 - accuracy: 0.7960 - val_loss: 0.3954 - val_accuracy: 0.7806\n",
      "Epoch 31/100\n",
      "22/22 [==============================] - 0s 16ms/step - loss: 0.3825 - accuracy: 0.7961 - val_loss: 0.3809 - val_accuracy: 0.7770\n",
      "Epoch 32/100\n",
      "22/22 [==============================] - 0s 16ms/step - loss: 0.3728 - accuracy: 0.8035 - val_loss: 0.3751 - val_accuracy: 0.8026\n",
      "Epoch 33/100\n",
      "22/22 [==============================] - 0s 19ms/step - loss: 0.3723 - accuracy: 0.8036 - val_loss: 0.3833 - val_accuracy: 0.8074\n",
      "Epoch 34/100\n",
      "22/22 [==============================] - 0s 16ms/step - loss: 0.3662 - accuracy: 0.8077 - val_loss: 0.3674 - val_accuracy: 0.8045\n",
      "Epoch 35/100\n",
      "22/22 [==============================] - 0s 16ms/step - loss: 0.3598 - accuracy: 0.8096 - val_loss: 0.3610 - val_accuracy: 0.8100\n",
      "Epoch 36/100\n",
      "22/22 [==============================] - 0s 16ms/step - loss: 0.3556 - accuracy: 0.8146 - val_loss: 0.3633 - val_accuracy: 0.8093\n",
      "Epoch 37/100\n",
      "22/22 [==============================] - 0s 15ms/step - loss: 0.3525 - accuracy: 0.8153 - val_loss: 0.3584 - val_accuracy: 0.8253\n",
      "Epoch 38/100\n",
      "22/22 [==============================] - 0s 15ms/step - loss: 0.3591 - accuracy: 0.8158 - val_loss: 0.3810 - val_accuracy: 0.7885\n",
      "Epoch 39/100\n",
      "22/22 [==============================] - 0s 20ms/step - loss: 0.3585 - accuracy: 0.8058 - val_loss: 0.3543 - val_accuracy: 0.8053\n",
      "Epoch 40/100\n",
      "22/22 [==============================] - 0s 15ms/step - loss: 0.3515 - accuracy: 0.8175 - val_loss: 0.3479 - val_accuracy: 0.8072\n",
      "Epoch 41/100\n",
      "22/22 [==============================] - 0s 15ms/step - loss: 0.3481 - accuracy: 0.8245 - val_loss: 0.3493 - val_accuracy: 0.7997\n",
      "Epoch 42/100\n",
      "22/22 [==============================] - 0s 19ms/step - loss: 0.3375 - accuracy: 0.8237 - val_loss: 0.3434 - val_accuracy: 0.8131\n",
      "Epoch 43/100\n",
      "22/22 [==============================] - 0s 15ms/step - loss: 0.3447 - accuracy: 0.8194 - val_loss: 0.3368 - val_accuracy: 0.8112\n",
      "Epoch 44/100\n",
      "22/22 [==============================] - 0s 15ms/step - loss: 0.3299 - accuracy: 0.8284 - val_loss: 0.3336 - val_accuracy: 0.8221\n",
      "Epoch 45/100\n"
     ]
    },
    {
     "name": "stdout",
     "output_type": "stream",
     "text": [
      "22/22 [==============================] - 0s 17ms/step - loss: 0.3298 - accuracy: 0.8286 - val_loss: 0.3368 - val_accuracy: 0.8242\n",
      "Epoch 46/100\n",
      "22/22 [==============================] - 0s 20ms/step - loss: 0.3270 - accuracy: 0.8339 - val_loss: 0.3304 - val_accuracy: 0.8280\n",
      "Epoch 47/100\n",
      "22/22 [==============================] - 0s 17ms/step - loss: 0.3224 - accuracy: 0.8344 - val_loss: 0.3443 - val_accuracy: 0.8154\n",
      "Epoch 48/100\n",
      "22/22 [==============================] - 0s 16ms/step - loss: 0.3238 - accuracy: 0.8366 - val_loss: 0.3188 - val_accuracy: 0.8274\n",
      "Epoch 49/100\n",
      "22/22 [==============================] - 0s 18ms/step - loss: 0.3137 - accuracy: 0.8405 - val_loss: 0.3181 - val_accuracy: 0.8270\n",
      "Epoch 50/100\n",
      "22/22 [==============================] - 0s 15ms/step - loss: 0.3126 - accuracy: 0.8379 - val_loss: 0.3126 - val_accuracy: 0.8448\n",
      "Epoch 51/100\n",
      "22/22 [==============================] - 0s 15ms/step - loss: 0.3145 - accuracy: 0.8403 - val_loss: 0.3140 - val_accuracy: 0.8270\n",
      "Epoch 52/100\n",
      "22/22 [==============================] - 0s 15ms/step - loss: 0.3046 - accuracy: 0.8451 - val_loss: 0.3057 - val_accuracy: 0.8427\n",
      "Epoch 53/100\n",
      "22/22 [==============================] - 0s 19ms/step - loss: 0.3023 - accuracy: 0.8473 - val_loss: 0.3204 - val_accuracy: 0.8123\n",
      "Epoch 54/100\n",
      "22/22 [==============================] - 0s 14ms/step - loss: 0.3045 - accuracy: 0.8478 - val_loss: 0.3008 - val_accuracy: 0.8387\n",
      "Epoch 55/100\n",
      "22/22 [==============================] - 0s 16ms/step - loss: 0.2938 - accuracy: 0.8506 - val_loss: 0.2947 - val_accuracy: 0.8694\n",
      "Epoch 56/100\n",
      "22/22 [==============================] - 0s 15ms/step - loss: 0.2955 - accuracy: 0.8572 - val_loss: 0.2959 - val_accuracy: 0.8379\n",
      "Epoch 57/100\n",
      "22/22 [==============================] - 0s 19ms/step - loss: 0.2876 - accuracy: 0.8641 - val_loss: 0.3044 - val_accuracy: 0.8295\n",
      "Epoch 58/100\n",
      "22/22 [==============================] - 0s 17ms/step - loss: 0.2936 - accuracy: 0.8590 - val_loss: 0.3192 - val_accuracy: 0.8520\n",
      "Epoch 59/100\n",
      "22/22 [==============================] - 0s 18ms/step - loss: 0.2910 - accuracy: 0.8697 - val_loss: 0.2745 - val_accuracy: 0.8902\n",
      "Epoch 60/100\n",
      "22/22 [==============================] - 0s 17ms/step - loss: 0.2736 - accuracy: 0.8877 - val_loss: 0.2731 - val_accuracy: 0.8700\n",
      "Epoch 61/100\n",
      "22/22 [==============================] - 0s 18ms/step - loss: 0.2750 - accuracy: 0.8824 - val_loss: 0.2928 - val_accuracy: 0.8856\n",
      "Epoch 62/100\n",
      "22/22 [==============================] - 0s 15ms/step - loss: 0.2731 - accuracy: 0.8923 - val_loss: 0.2684 - val_accuracy: 0.8977\n",
      "Epoch 63/100\n",
      "22/22 [==============================] - 0s 16ms/step - loss: 0.2720 - accuracy: 0.8938 - val_loss: 0.2533 - val_accuracy: 0.8998\n",
      "Epoch 64/100\n",
      "22/22 [==============================] - 0s 20ms/step - loss: 0.2593 - accuracy: 0.9005 - val_loss: 0.2478 - val_accuracy: 0.9080\n",
      "Epoch 65/100\n",
      "22/22 [==============================] - 0s 16ms/step - loss: 0.2499 - accuracy: 0.9104 - val_loss: 0.2395 - val_accuracy: 0.9175\n",
      "Epoch 66/100\n",
      "22/22 [==============================] - 0s 16ms/step - loss: 0.2522 - accuracy: 0.9036 - val_loss: 0.2571 - val_accuracy: 0.8944\n",
      "Epoch 67/100\n",
      "22/22 [==============================] - 0s 18ms/step - loss: 0.2393 - accuracy: 0.9092 - val_loss: 0.2297 - val_accuracy: 0.9164\n",
      "Epoch 68/100\n",
      "22/22 [==============================] - 0s 18ms/step - loss: 0.2319 - accuracy: 0.9109 - val_loss: 0.2259 - val_accuracy: 0.9110\n",
      "Epoch 69/100\n",
      "22/22 [==============================] - 0s 18ms/step - loss: 0.2247 - accuracy: 0.9179 - val_loss: 0.2198 - val_accuracy: 0.9271\n",
      "Epoch 70/100\n",
      "22/22 [==============================] - 0s 17ms/step - loss: 0.2250 - accuracy: 0.9151 - val_loss: 0.2129 - val_accuracy: 0.9154\n",
      "Epoch 71/100\n",
      "22/22 [==============================] - 0s 17ms/step - loss: 0.2173 - accuracy: 0.9166 - val_loss: 0.2108 - val_accuracy: 0.9166\n",
      "Epoch 72/100\n",
      "22/22 [==============================] - 0s 18ms/step - loss: 0.2089 - accuracy: 0.9210 - val_loss: 0.2031 - val_accuracy: 0.9194\n",
      "Epoch 73/100\n",
      "22/22 [==============================] - 0s 18ms/step - loss: 0.2009 - accuracy: 0.9231 - val_loss: 0.2047 - val_accuracy: 0.9156\n",
      "Epoch 74/100\n",
      "22/22 [==============================] - 0s 16ms/step - loss: 0.2039 - accuracy: 0.9226 - val_loss: 0.1913 - val_accuracy: 0.9217\n",
      "Epoch 75/100\n",
      "22/22 [==============================] - 0s 16ms/step - loss: 0.1992 - accuracy: 0.9217 - val_loss: 0.1894 - val_accuracy: 0.9448\n",
      "Epoch 76/100\n",
      "22/22 [==============================] - 0s 20ms/step - loss: 0.1875 - accuracy: 0.9338 - val_loss: 0.1922 - val_accuracy: 0.9395\n",
      "Epoch 77/100\n",
      "22/22 [==============================] - 0s 16ms/step - loss: 0.1908 - accuracy: 0.9320 - val_loss: 0.1833 - val_accuracy: 0.9231\n",
      "Epoch 78/100\n",
      "22/22 [==============================] - 0s 17ms/step - loss: 0.1857 - accuracy: 0.9345 - val_loss: 0.1943 - val_accuracy: 0.9364\n",
      "Epoch 79/100\n",
      "22/22 [==============================] - 0s 16ms/step - loss: 0.1825 - accuracy: 0.9333 - val_loss: 0.1714 - val_accuracy: 0.9406\n",
      "Epoch 80/100\n",
      "22/22 [==============================] - 0s 20ms/step - loss: 0.1757 - accuracy: 0.9394 - val_loss: 0.1666 - val_accuracy: 0.9496\n",
      "Epoch 81/100\n",
      "22/22 [==============================] - 0s 18ms/step - loss: 0.1749 - accuracy: 0.9373 - val_loss: 0.1629 - val_accuracy: 0.9502\n",
      "Epoch 82/100\n",
      "22/22 [==============================] - ETA: 0s - loss: 0.1606 - accuracy: 0.94 - 0s 17ms/step - loss: 0.1609 - accuracy: 0.9455 - val_loss: 0.1609 - val_accuracy: 0.9513\n",
      "Epoch 83/100\n",
      "22/22 [==============================] - 0s 18ms/step - loss: 0.1566 - accuracy: 0.9455 - val_loss: 0.1557 - val_accuracy: 0.9517\n",
      "Epoch 84/100\n",
      "22/22 [==============================] - 0s 19ms/step - loss: 0.1541 - accuracy: 0.9473 - val_loss: 0.1479 - val_accuracy: 0.9561\n",
      "Epoch 85/100\n",
      "22/22 [==============================] - 0s 17ms/step - loss: 0.1494 - accuracy: 0.9500 - val_loss: 0.1663 - val_accuracy: 0.9341\n",
      "Epoch 86/100\n",
      "22/22 [==============================] - 0s 16ms/step - loss: 0.1469 - accuracy: 0.9496 - val_loss: 0.1460 - val_accuracy: 0.9378\n",
      "Epoch 87/100\n",
      "22/22 [==============================] - 0s 16ms/step - loss: 0.1490 - accuracy: 0.9440 - val_loss: 0.1420 - val_accuracy: 0.9444\n",
      "Epoch 88/100\n",
      "22/22 [==============================] - 0s 18ms/step - loss: 0.1399 - accuracy: 0.9502 - val_loss: 0.1593 - val_accuracy: 0.9355\n",
      "Epoch 89/100\n",
      "22/22 [==============================] - 0s 16ms/step - loss: 0.1400 - accuracy: 0.9491 - val_loss: 0.1370 - val_accuracy: 0.9412\n",
      "Epoch 90/100\n",
      "22/22 [==============================] - 0s 16ms/step - loss: 0.1326 - accuracy: 0.9514 - val_loss: 0.1378 - val_accuracy: 0.9452\n",
      "Epoch 91/100\n",
      "22/22 [==============================] - 0s 21ms/step - loss: 0.1310 - accuracy: 0.9528 - val_loss: 0.1305 - val_accuracy: 0.9475\n",
      "Epoch 92/100\n",
      "22/22 [==============================] - 0s 17ms/step - loss: 0.1284 - accuracy: 0.9524 - val_loss: 0.1237 - val_accuracy: 0.9555\n",
      "Epoch 93/100\n",
      "22/22 [==============================] - 0s 16ms/step - loss: 0.1295 - accuracy: 0.9496 - val_loss: 0.1257 - val_accuracy: 0.9488\n",
      "Epoch 94/100\n",
      "22/22 [==============================] - 0s 19ms/step - loss: 0.1267 - accuracy: 0.9524 - val_loss: 0.1684 - val_accuracy: 0.9213\n",
      "Epoch 95/100\n",
      "22/22 [==============================] - 0s 15ms/step - loss: 0.1425 - accuracy: 0.9411 - val_loss: 0.1240 - val_accuracy: 0.9507\n",
      "Epoch 96/100\n",
      "22/22 [==============================] - 0s 16ms/step - loss: 0.1251 - accuracy: 0.9491 - val_loss: 0.1242 - val_accuracy: 0.9494\n",
      "Epoch 97/100\n",
      "22/22 [==============================] - 0s 16ms/step - loss: 0.1277 - accuracy: 0.9478 - val_loss: 0.1206 - val_accuracy: 0.9452\n",
      "Epoch 98/100\n",
      "22/22 [==============================] - 0s 17ms/step - loss: 0.1177 - accuracy: 0.9545 - val_loss: 0.1346 - val_accuracy: 0.9490\n",
      "Epoch 99/100\n",
      "22/22 [==============================] - 0s 19ms/step - loss: 0.1207 - accuracy: 0.9521 - val_loss: 0.1152 - val_accuracy: 0.9553\n",
      "Epoch 100/100\n",
      "22/22 [==============================] - 0s 19ms/step - loss: 0.1101 - accuracy: 0.9579 - val_loss: 0.1081 - val_accuracy: 0.9572\n"
     ]
    }
   ],
   "source": [
    "model = Sequential()\n",
    "\n",
    "model.add(LSTM(64, input_shape=(None,5), return_sequences=True))\n",
    "model.add(LSTM(64, return_sequences=True))\n",
    "model.add(LSTM(32, return_sequences=True))\n",
    "model.add(Dense(32, activation='relu'))\n",
    "model.add(Dense(8, activation='relu'))\n",
    "\n",
    "model.add(Dense(3, activation='softmax', name='output'))\n",
    "\n",
    "model.compile(loss='categorical_crossentropy', metrics=['accuracy'], optimizer='adam')\n",
    "\n",
    "history = model.fit(X_train, y_train, batch_size=512, epochs=100, validation_data=(X_test, y_test))"
   ]
  },
  {
   "cell_type": "code",
   "execution_count": 36,
   "metadata": {},
   "outputs": [
    {
     "name": "stdout",
     "output_type": "stream",
     "text": [
      "149/149 [==============================] - 0s 2ms/step - loss: 0.1081 - accuracy: 0.9572\n",
      "Final test set loss: 0.108148\n",
      "Final test set accuracy: 0.957161\n"
     ]
    }
   ],
   "source": [
    "results = model.evaluate(X_test, y_test)\n",
    "\n",
    "print('Final test set loss: {:4f}'.format(results[0]))\n",
    "print('Final test set accuracy: {:4f}'.format(results[1]))"
   ]
  },
  {
   "cell_type": "code",
   "execution_count": 18,
   "metadata": {},
   "outputs": [],
   "source": [
    "losses = pd.DataFrame(history.history)"
   ]
  },
  {
   "cell_type": "code",
   "execution_count": null,
   "metadata": {},
   "outputs": [],
   "source": []
  },
  {
   "cell_type": "code",
   "execution_count": 8,
   "metadata": {},
   "outputs": [
    {
     "data": {
      "text/plain": [
       "<AxesSubplot:>"
      ]
     },
     "execution_count": 8,
     "metadata": {},
     "output_type": "execute_result"
    },
    {
     "data": {
      "image/png": "[encoded data removed]",
      "text/plain": [
       "<Figure size 432x288 with 1 Axes>"
      ]
     },
     "metadata": {
      "needs_background": "light"
     },
     "output_type": "display_data"
    }
   ],
   "source": [
    "losses[['val_loss','val_accuracy']].plot()"
   ]
  },
  {
   "cell_type": "code",
   "execution_count": 9,
   "metadata": {},
   "outputs": [
    {
     "data": {
      "text/plain": [
       "<AxesSubplot:>"
      ]
     },
     "execution_count": 9,
     "metadata": {},
     "output_type": "execute_result"
    },
    {
     "data": {
      "image/png": "[encoded data removed]",
      "text/plain": [
       "<Figure size 432x288 with 1 Axes>"
      ]
     },
     "metadata": {
      "needs_background": "light"
     },
     "output_type": "display_data"
    }
   ],
   "source": [
    "losses[['loss','accuracy']].plot()"
   ]
  },
  {
   "cell_type": "code",
   "execution_count": 19,
   "metadata": {},
   "outputs": [
    {
     "data": {
      "text/plain": [
       "<AxesSubplot:>"
      ]
     },
     "execution_count": 19,
     "metadata": {},
     "output_type": "execute_result"
    },
    {
     "data": {
      "image/png": "[encoded data removed]",
      "text/plain": [
       "<Figure size 432x288 with 1 Axes>"
      ]
     },
     "metadata": {
      "needs_background": "light"
     },
     "output_type": "display_data"
    }
   ],
   "source": [
    "losses[['accuracy','val_accuracy']].plot()"
   ]
  },
  {
   "cell_type": "code",
   "execution_count": 20,
   "metadata": {},
   "outputs": [
    {
     "data": {
      "text/plain": [
       "<AxesSubplot:>"
      ]
     },
     "execution_count": 20,
     "metadata": {},
     "output_type": "execute_result"
    },
    {
     "data": {
      "image/png": "[encoded data removed]",
      "text/plain": [
       "<Figure size 432x288 with 1 Axes>"
      ]
     },
     "metadata": {
      "needs_background": "light"
     },
     "output_type": "display_data"
    }
   ],
   "source": [
    "losses[['loss','val_loss']].plot()"
   ]
  },
  {
   "cell_type": "code",
   "execution_count": null,
   "metadata": {},
   "outputs": [],
   "source": [
    "model = load_model('model_01_07_84acc.h5', compile=False)"
   ]
  },
  {
   "cell_type": "code",
   "execution_count": 12,
   "metadata": {},
   "outputs": [
    {
     "name": "stdout",
     "output_type": "stream",
     "text": [
      "WARNING:tensorflow:AutoGraph could not transform <function Model.make_predict_function.<locals>.predict_function at 0x7f8d4df1cdd0> and will run it as-is.\n",
      "Please report this to the TensorFlow team. When filing the bug, set the verbosity to 10 (on Linux, `export AUTOGRAPH_VERBOSITY=10`) and attach the full output.\n",
      "Cause: Bad argument number for Name: 4, expecting 3\n",
      "To silence this warning, decorate the function with @tf.autograph.experimental.do_not_convert\n",
      "WARNING: AutoGraph could not transform <function Model.make_predict_function.<locals>.predict_function at 0x7f8d4df1cdd0> and will run it as-is.\n",
      "Please report this to the TensorFlow team. When filing the bug, set the verbosity to 10 (on Linux, `export AUTOGRAPH_VERBOSITY=10`) and attach the full output.\n",
      "Cause: Bad argument number for Name: 4, expecting 3\n",
      "To silence this warning, decorate the function with @tf.autograph.experimental.do_not_convert\n",
      "Confusion Matrix\n",
      "\n",
      "[[1139   72   36]\n",
      " [  31 2439    0]\n",
      " [  31    9 1005]]\n"
     ]
    }
   ],
   "source": [
    "y_predicted = model.predict(X_test)\n",
    "confusion = confusion_matrix(y_test.reshape(-1, 3).argmax(axis=1), y_predicted.reshape(-1, 3).argmax(axis=1))\n",
    "print('Confusion Matrix\\n')\n",
    "print(confusion)"
   ]
  },
  {
   "cell_type": "code",
   "execution_count": null,
   "metadata": {},
   "outputs": [],
   "source": []
  },
  {
   "cell_type": "code",
   "execution_count": null,
   "metadata": {},
   "outputs": [],
   "source": []
  },
  {
   "cell_type": "code",
   "execution_count": null,
   "metadata": {},
   "outputs": [],
   "source": []
  },
  {
   "cell_type": "code",
   "execution_count": null,
   "metadata": {},
   "outputs": [],
   "source": []
  },
  {
   "cell_type": "code",
   "execution_count": null,
   "metadata": {},
   "outputs": [],
   "source": []
  },
  {
   "cell_type": "code",
   "execution_count": null,
   "metadata": {},
   "outputs": [],
   "source": []
  }
 ],
 "metadata": {
  "kernelspec": {
   "display_name": "Python 3",
   "language": "python",
   "name": "python3"
  },
  "language_info": {
   "codemirror_mode": {
    "name": "ipython",
    "version": 3
   },
   "file_extension": ".py",
   "mimetype": "text/x-python",
   "name": "python",
   "nbconvert_exporter": "python",
   "pygments_lexer": "ipython3",
   "version": "3.7.10"
  }
 },
 "nbformat": 4,
 "nbformat_minor": 4
}
