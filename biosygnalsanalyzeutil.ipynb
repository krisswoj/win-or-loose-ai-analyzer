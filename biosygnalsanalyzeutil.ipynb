{
 "cells": [
  {
   "cell_type": "code",
   "execution_count": 8,
   "outputs": [],
   "source": [
    "import numpy as np\n",
    "import pandas as pd\n",
    "import re\n",
    "\n",
    "# Make numpy printouts easier to read.\n",
    "np.set_printoptions(precision=3, suppress=True)\n",
    "pd.set_option('display.max_columns', None)"
   ],
   "metadata": {
    "collapsed": false,
    "pycharm": {
     "name": "#%%\n"
    }
   }
  },
  {
   "cell_type": "code",
   "execution_count": 9,
   "outputs": [],
   "source": [
    "def get_biosignal_in_range(biosignals, first_range, second_range):\n",
    "    return biosignals.loc[(first_range+2 <= biosignals['Czas']) & (biosignals['Czas'] < second_range+2)]"
   ],
   "metadata": {
    "collapsed": false,
    "pycharm": {
     "name": "#%%\n"
    }
   }
  },
  {
   "cell_type": "code",
   "execution_count": 10,
   "outputs": [],
   "source": [
    "def read_biosignal_data(biosignal_path):\n",
    "    biosignals = pd.read_csv(biosignal_path, sep=',', error_bad_lines=False, index_col=False, dtype='unicode').iloc[1:,:11]\n",
    "    for columnName in biosignals.columns.values:\n",
    "        biosignals[columnName] = pd.to_numeric(biosignals[columnName], errors='coerce')\n",
    "    return biosignals"
   ],
   "metadata": {
    "collapsed": false,
    "pycharm": {
     "name": "#%%\n"
    }
   }
  },
  {
   "cell_type": "code",
   "execution_count": 11,
   "outputs": [],
   "source": [
    "def read_tetris_data(tetris_data_path):\n",
    "    dataset = pd.read_csv(tetris_data_path, sep='\\t', error_bad_lines=False, index_col=False, dtype='unicode')\n",
    "    dataset['time'] = pd.to_numeric(dataset['time'], errors='coerce')\n",
    "    dataset['player'] = pd.to_numeric(dataset['player'], errors='coerce')\n",
    "    return dataset"
   ],
   "metadata": {
    "collapsed": false,
    "pycharm": {
     "name": "#%%\n"
    }
   }
  },
  {
   "cell_type": "code",
   "execution_count": 12,
   "outputs": [],
   "source": [
    "LINES_PATTERN = \"(?<=lines\\()[^)]*(?=\\))\"\n",
    "\n",
    "def get_first_player_tetris_state(data):\n",
    "    max_time = data.tail(1)['time'].item()\n",
    "    tetris_result = []\n",
    "    first_player = 1\n",
    "    first_player_lines = 0\n",
    "    second_player_lines = 0\n",
    "    i = 0\n",
    "\n",
    "    while i < max_time:\n",
    "        temp_data = data.loc[data['time']==i]\n",
    "        if temp_data.empty:\n",
    "            method_name(first_player_lines,second_player_lines,tetris_result)\n",
    "            i+=1\n",
    "            continue\n",
    "        for index, row in temp_data.iterrows():\n",
    "            if re.search(LINES_PATTERN, row['move']):\n",
    "                line_number = int(re.findall(LINES_PATTERN, row['move'])[0])\n",
    "                if row['player'] == first_player:\n",
    "                    first_player_lines = line_number\n",
    "                else:\n",
    "                    second_player_lines = line_number\n",
    "        method_name(first_player_lines,second_player_lines,tetris_result)\n",
    "        i+=1\n",
    "    return tetris_result\n",
    "\n",
    "def method_name(first_player_lines, second_player_lines, tetris_result):\n",
    "    if first_player_lines > second_player_lines:\n",
    "        tetris_result.append(1)\n",
    "    elif first_player_lines < second_player_lines:\n",
    "        tetris_result.append(-1)\n",
    "    else:\n",
    "        tetris_result.append(0)\n",
    "\n",
    "def get_second_player_tetris_state(data):\n",
    "    first_player = get_first_player_tetris_state(data)\n",
    "    return [state * -1 for state in first_player]"
   ],
   "metadata": {
    "collapsed": false,
    "pycharm": {
     "name": "#%%\n"
    }
   }
  },
  {
   "cell_type": "code",
   "execution_count": 13,
   "outputs": [],
   "source": [
    "def merge_p1_biosignals_with_tetris_results(biosignals, tetris_results, time_start):\n",
    "    verify_biosignals_with_tetris_results(biosignals, tetris_results)\n",
    "    return insert_p1_tetris_result(biosignals, tetris_results, time_start)\n",
    "\n",
    "def merge_p2_biosignals_with_tetris_results(biosignals, tetris_results, time_start):\n",
    "    verify_biosignals_with_tetris_results(biosignals, tetris_results)\n",
    "    return insert_p2_tetris_result(biosignals, tetris_results, time_start)\n",
    "\n",
    "def merge_both_biosignals_with_tetris_results(biosignals, tetris_results, time_start):\n",
    "    verify_biosignals_with_tetris_results(biosignals, tetris_results)\n",
    "    return insert_p1p2_tetris_result(biosignals, tetris_results, time_start)\n",
    "\n",
    "def verify_biosignals_with_tetris_results(biosignals, tetris_results):\n",
    "    tetris_max_time = tetris_results.iloc[-1,0].item()\n",
    "    bio_start_time = biosignals.head(1)['Czas'].item()\n",
    "    bio_end_time = biosignals.tail(1)['Czas'].item()\n",
    "\n",
    "    if 0 > (tetris_max_time - (bio_end_time - bio_start_time)) or (tetris_max_time - (bio_end_time - bio_start_time)) > 1:\n",
    "        raise ValueError('Tetris times are not compatible with biosignals times')"
   ],
   "metadata": {
    "collapsed": false,
    "pycharm": {
     "name": "#%%\n"
    }
   }
  },
  {
   "cell_type": "code",
   "execution_count": 14,
   "outputs": [],
   "source": [
    "def insert_p1p2_tetris_result(biosignals, tetris_result, time_start):\n",
    "    first_player_tetris_state = get_first_player_tetris_state(tetris_result)\n",
    "    second_player_tetris_state = get_second_player_tetris_state(tetris_result)\n",
    "    first_player = insert_tetris_signals(biosignals, first_player_tetris_state, time_start, '-1')\n",
    "    return insert_tetris_signals(first_player, second_player_tetris_state, time_start, '-2')\n",
    "\n",
    "def insert_p1_tetris_result(biosignals, tetris_result, time_start):\n",
    "    biosignals = biosignals.drop(['B: BVP2','D: EMG2','H: Thor Resp','I: Temp2','SC-Pro/Flex - 1J'],axis=1)\n",
    "    first_player_tetris_state = get_first_player_tetris_state(tetris_result)\n",
    "    return insert_tetris_signals(biosignals, first_player_tetris_state, time_start,'')\n",
    "\n",
    "def insert_p2_tetris_result(biosignals, tetris_result, time_start):\n",
    "    biosignals = biosignals.drop(['A: BVP1','C: EMG1','E: Skin Cond','F: Temp1','G: Abd Resp'],axis=1)\n",
    "    second_player_tetris_state = get_second_player_tetris_state(tetris_result)\n",
    "    return insert_tetris_signals(biosignals, second_player_tetris_state, time_start,'')\n",
    "\n",
    "def insert_tetris_signals(biosignals, tetris_state, time_start, tetris_column_sufix):\n",
    "    merged_tetris_result_with_biosignals = biosignals.apply(lambda x: tetris_state[int(x['Czas'])-2-time_start], axis=1)\n",
    "    biosignals = biosignals.assign(tetris=merged_tetris_result_with_biosignals.values)\n",
    "    biosignals['tetris'] = biosignals['tetris'].map({-1: 'Lose' + tetris_column_sufix, 0: 'Draw' + tetris_column_sufix, 1: 'Win' + tetris_column_sufix})\n",
    "    return pd.get_dummies(biosignals, prefix='', prefix_sep='')"
   ],
   "metadata": {
    "collapsed": false,
    "pycharm": {
     "name": "#%%\n"
    }
   }
  },
  {
   "cell_type": "code",
   "execution_count": 15,
   "outputs": [],
   "source": [
    "def get_players_results(first_measurement_start_time, first_measurement_end_time, second_measurement_start_time, second_measurement_end_time, folder_name):\n",
    "    biosignals = read_biosignal_data(folder_name + '/biosignals.txt')\n",
    "    r1_ranged_biosignals = get_biosignal_in_range(biosignals, first_measurement_start_time, first_measurement_end_time)\n",
    "    r2_ranged_biosignals = get_biosignal_in_range(biosignals, second_measurement_start_time, second_measurement_end_time)\n",
    "\n",
    "    first_round_tetris_data = read_tetris_data(folder_name + '/tetris_first_round.txt')\n",
    "    second_round_tetris_data = read_tetris_data(folder_name + '/tetris_second_round.txt')\n",
    "\n",
    "    p1p2r1 = merge_both_biosignals_with_tetris_results(r1_ranged_biosignals, first_round_tetris_data, first_measurement_start_time)\n",
    "    p1p2r2 = merge_both_biosignals_with_tetris_results(r2_ranged_biosignals, second_round_tetris_data, second_measurement_start_time)\n",
    "    p1r1 = merge_p1_biosignals_with_tetris_results(r1_ranged_biosignals, first_round_tetris_data, first_measurement_start_time)\n",
    "    p2r1 = merge_p2_biosignals_with_tetris_results(r1_ranged_biosignals, first_round_tetris_data, first_measurement_start_time)\n",
    "    p1r2 = merge_p1_biosignals_with_tetris_results(r2_ranged_biosignals, second_round_tetris_data, second_measurement_start_time)\n",
    "    p2r2 = merge_p2_biosignals_with_tetris_results(r2_ranged_biosignals, second_round_tetris_data, second_measurement_start_time)\n",
    "\n",
    "    return {\n",
    "        'biosignals' : biosignals,\n",
    "        'p1p2r1':p1p2r1,\n",
    "        'p1p2r2':p1p2r2,\n",
    "        'p1r1': p1r1,\n",
    "        'p2r1': p2r1,\n",
    "        'p1r2': p1r2,\n",
    "        'p2r2': p2r2,\n",
    "    }"
   ],
   "metadata": {
    "collapsed": false,
    "pycharm": {
     "name": "#%%\n"
    }
   }
  }
 ],
 "metadata": {
  "kernelspec": {
   "display_name": "Python 3",
   "language": "python",
   "name": "python3"
  },
  "language_info": {
   "codemirror_mode": {
    "name": "ipython",
    "version": 3
   },
   "file_extension": ".py",
   "mimetype": "text/x-python",
   "name": "python",
   "nbconvert_exporter": "python",
   "pygments_lexer": "ipython3",
   "version": "3.7.6"
  }
 },
 "nbformat": 4,
 "nbformat_minor": 4
}