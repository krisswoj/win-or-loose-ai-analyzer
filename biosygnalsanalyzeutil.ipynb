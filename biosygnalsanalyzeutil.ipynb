{
 "cells": [
  {
   "cell_type": "code",
   "execution_count": 41,
   "outputs": [],
   "source": [
    "import numpy as np\n",
    "import pandas as pd\n",
    "import re\n",
    "\n",
    "# Make numpy printouts easier to read.\n",
    "np.set_printoptions(precision=3, suppress=True)\n",
    "pd.set_option('display.max_columns', None)"
   ],
   "metadata": {
    "collapsed": false,
    "pycharm": {
     "name": "#%%\n"
    }
   }
  },
  {
   "cell_type": "code",
   "execution_count": 42,
   "outputs": [],
   "source": [
    "def get_biosignal_in_range(biosignals, first_range, second_range):\n",
    "    return biosignals.loc[(first_range+2 <= biosignals['Czas']) & (biosignals['Czas'] < second_range+2)]"
   ],
   "metadata": {
    "collapsed": false,
    "pycharm": {
     "name": "#%%\n"
    }
   }
  },
  {
   "cell_type": "code",
   "execution_count": 43,
   "outputs": [],
   "source": [
    "def read_biosignal_data(biosignal_path):\n",
    "    biosignals = pd.read_csv(biosignal_path, sep=',', error_bad_lines=False, index_col=False, dtype='unicode').iloc[1:,:11]\n",
    "    for columnName in biosignals.columns.values:\n",
    "        biosignals[columnName] = pd.to_numeric(biosignals[columnName], errors='coerce')\n",
    "\n",
    "    return biosignals"
   ],
   "metadata": {
    "collapsed": false,
    "pycharm": {
     "name": "#%%\n"
    }
   }
  },
  {
   "cell_type": "code",
   "execution_count": 44,
   "outputs": [],
   "source": [
    "def read_tetris_data(tetris_data_path):\n",
    "    dataset = pd.read_csv(tetris_data_path, sep='\\t', error_bad_lines=False, index_col=False, dtype='unicode')\n",
    "    dataset['time'] = pd.to_numeric(dataset['time'], errors='coerce')\n",
    "    dataset['player'] = pd.to_numeric(dataset['player'], errors='coerce')\n",
    "    \n",
    "    return dataset"
   ],
   "metadata": {
    "collapsed": false,
    "pycharm": {
     "name": "#%%\n"
    }
   }
  },
  {
   "cell_type": "code",
   "execution_count": 45,
   "outputs": [],
   "source": [
    "LINES_PATTERN = \"(?<=lines\\()[^)]*(?=\\))\"\n",
    "\n",
    "def get_first_player_tetris_state(data):\n",
    "    max_time = data.tail(1)['time'].item()\n",
    "    tetris_result = []\n",
    "    first_player = 1\n",
    "    first_player_lines = 0\n",
    "    second_player_lines = 0\n",
    "    i = 0\n",
    "\n",
    "    while i < max_time:\n",
    "        temp_data = data.loc[data['time']==i]\n",
    "\n",
    "        if temp_data.empty:\n",
    "            method_name(first_player_lines,second_player_lines,tetris_result)\n",
    "            i+=1\n",
    "            continue\n",
    "\n",
    "        for index, row in temp_data.iterrows():\n",
    "            if re.search(LINES_PATTERN, row['move']):\n",
    "                line_number = int(re.findall(LINES_PATTERN, row['move'])[0])\n",
    "                if row['player'] == first_player:\n",
    "                    first_player_lines = line_number\n",
    "                else:\n",
    "                    second_player_lines = line_number\n",
    "                    \n",
    "        method_name(first_player_lines,second_player_lines,tetris_result)\n",
    "        i+=1\n",
    "\n",
    "    return tetris_result\n",
    "\n",
    "def method_name(first_player_lines, second_player_lines, tetris_result):\n",
    "    if first_player_lines > second_player_lines:\n",
    "        tetris_result.append(1)\n",
    "    elif first_player_lines < second_player_lines:\n",
    "        tetris_result.append(-1)\n",
    "    else:\n",
    "        tetris_result.append(0)"
   ],
   "metadata": {
    "collapsed": false,
    "pycharm": {
     "name": "#%%\n"
    }
   }
  },
  {
   "cell_type": "code",
   "execution_count": 46,
   "outputs": [],
   "source": [
    "def get_second_player_tetris_state(data):\n",
    "    first_player = get_first_player_tetris_state(data)\n",
    "\n",
    "    return [state * -1 for state in first_player]"
   ],
   "metadata": {
    "collapsed": false,
    "pycharm": {
     "name": "#%%\n"
    }
   }
  },
  {
   "cell_type": "code",
   "execution_count": 47,
   "outputs": [],
   "source": [
    "# def merge_biosignals_with_tetris_results(biosignals, tetris_results, time_start):\n",
    "#     tetris_max_time = tetris_results.iloc[-1,0].item()\n",
    "#     bio_start_time = biosignals.head(1)['Czas'].item()\n",
    "#     bio_end_time = biosignals.tail(1)['Czas'].item()\n",
    "#\n",
    "#     if 0 > (tetris_max_time - (bio_end_time - bio_start_time)) or (tetris_max_time - (bio_end_time - bio_start_time)) > 1:\n",
    "#         raise ValueError('Tetris times are not compatible with biosignals times')\n",
    "#\n",
    "#     biosignals_with_inserted_tetris_result = insert_tetris_result(biosignals, tetris_results, time_start)\n",
    "#\n",
    "#     return pd.get_dummies(biosignals_with_inserted_tetris_result, prefix='', prefix_sep='')\n",
    "\n",
    "\n",
    "\n",
    "def merge_p1_biosignals_with_tetris_results(biosignals, tetris_results, time_start):\n",
    "    verify_biosignals_with_tetris_results(biosignals, tetris_results)\n",
    "\n",
    "    biosignals_with_inserted_tetris_result = insert_first_player_tetris_result(biosignals, tetris_results, time_start)\n",
    "\n",
    "    return get_dummies(biosignals_with_inserted_tetris_result)\n",
    "\n",
    "\n",
    "def merge_p2_biosignals_with_tetris_results(biosignals, tetris_results, time_start):\n",
    "    verify_biosignals_with_tetris_results(biosignals, tetris_results)\n",
    "\n",
    "    biosignals_with_inserted_tetris_result = insert_second_player_tetris_result(biosignals, tetris_results, time_start)\n",
    "\n",
    "    return get_dummies(biosignals_with_inserted_tetris_result)\n",
    "\n",
    "\n",
    "def verify_biosignals_with_tetris_results(biosignals, tetris_results):\n",
    "    tetris_max_time = tetris_results.iloc[-1,0].item()\n",
    "    bio_start_time = biosignals.head(1)['Czas'].item()\n",
    "    bio_end_time = biosignals.tail(1)['Czas'].item()\n",
    "\n",
    "    if 0 > (tetris_max_time - (bio_end_time - bio_start_time)) or (tetris_max_time - (bio_end_time - bio_start_time)) > 1:\n",
    "        raise ValueError('Tetris times are not compatible with biosignals times')\n",
    "\n",
    "\n",
    "def merge_both_biosignals_with_tetris_results(biosignals, tetris_results, time_start):\n",
    "    tetris_max_time = tetris_results.iloc[-1,0].item()\n",
    "    bio_start_time = biosignals.head(1)['Czas'].item()\n",
    "    bio_end_time = biosignals.tail(1)['Czas'].item()\n",
    "\n",
    "    if 0 > (tetris_max_time - (bio_end_time - bio_start_time)) or (tetris_max_time - (bio_end_time - bio_start_time)) > 1:\n",
    "        raise ValueError('Tetris times are not compatible with biosignals times')\n",
    "\n",
    "    biosignals_with_inserted_tetris_result = insert_both_tetris_result(biosignals, tetris_results, time_start)\n",
    "\n",
    "    return pd.get_dummies(biosignals_with_inserted_tetris_result, prefix='', prefix_sep='')\n",
    "\n",
    "\n",
    "def get_dummies(to_dummies):\n",
    "    return pd.get_dummies(to_dummies, prefix='', prefix_sep='')\n",
    "\n",
    "\n",
    "def insert_both_tetris_result(biosignals, tetris_result, time_start):\n",
    "\n",
    "    first_player_tetris_state = get_first_player_tetris_state(tetris_result)\n",
    "    second_player_tetris_state = get_second_player_tetris_state(tetris_result)\n",
    "\n",
    "    merged_first_player_tetris_result_with_biosignals = biosignals.apply(lambda x: first_player_tetris_state[int(x['Czas'])-2-time_start], axis=1)\n",
    "    merged_second_player_tetris_result_with_biosignals = biosignals.apply(lambda x: second_player_tetris_state[int(x['Czas'])-2-time_start], axis=1)\n",
    "\n",
    "    biosignals = biosignals.assign(tetris_first_player=merged_first_player_tetris_result_with_biosignals.values)\n",
    "    biosignals = biosignals.assign(tetris_second_player=merged_second_player_tetris_result_with_biosignals.values)\n",
    "\n",
    "    biosignals['tetris_first_player'] = biosignals['tetris_first_player'].map({-1: 'Lose-1', 0: 'Draw-1', 1: 'Win-1'})\n",
    "    biosignals['tetris_second_player'] = biosignals['tetris_second_player'].map({-1: 'Lose-2', 0: 'Draw-2', 1: 'Win-2'})\n",
    "\n",
    "    return biosignals\n",
    "\n",
    "\n",
    "\n",
    "def insert_first_player_tetris_result(biosignals, tetris_result, time_start):\n",
    "    biosignals = biosignals.drop(['B: BVP2','D: EMG2','H: Thor Resp','I: Temp2','SC-Pro/Flex - 1J'],axis=1)\n",
    "    first_player_tetris_state = get_first_player_tetris_state(tetris_result)\n",
    "\n",
    "    merged_tetris_result_with_biosignals = biosignals.apply(lambda x: first_player_tetris_state[int(x['Czas'])-2-time_start], axis=1)\n",
    "    biosignals = biosignals.assign(tetris=merged_tetris_result_with_biosignals.values)\n",
    "    biosignals['tetris'] = biosignals['tetris'].map({-1: 'Lose', 0: 'Draw', 1: 'Win'})\n",
    "\n",
    "    return biosignals\n",
    "\n",
    "def insert_second_player_tetris_result(biosignals, tetris_result, time_start):\n",
    "    biosignals = biosignals.drop(['A: BVP1','C: EMG1','E: Skin Cond','F: Temp1','G: Abd Resp'],axis=1)\n",
    "    second_player_tetris_state = get_second_player_tetris_state(tetris_result)\n",
    "\n",
    "    merged_tetris_result_with_biosignals = biosignals.apply(lambda x: second_player_tetris_state[int(x['Czas'])-2-time_start], axis=1)\n",
    "    biosignals = biosignals.assign(tetris=merged_tetris_result_with_biosignals.values)\n",
    "    biosignals['tetris'] = biosignals['tetris'].map({-1: 'Lose', 0: 'Draw', 1: 'Win'})\n",
    "\n",
    "    return biosignals"
   ],
   "metadata": {
    "collapsed": false,
    "pycharm": {
     "name": "#%%\n"
    }
   }
  },
  {
   "cell_type": "code",
   "execution_count": 48,
   "outputs": [],
   "source": [
    "def get_players_results(first_measurement_start_time, first_measurement_end_time, second_measurement_start_time, second_measurement_end_time, folder_name):\n",
    "\n",
    "    biosignals = read_biosignal_data(folder_name + '/biosignals.txt')\n",
    "\n",
    "    first_round_ranged_biosignals = get_biosignal_in_range(biosignals, first_measurement_start_time, first_measurement_end_time)\n",
    "    second_round_ranged_biosignals = get_biosignal_in_range(biosignals, second_measurement_start_time, second_measurement_end_time)\n",
    "\n",
    "    first_round_tetris_data = read_tetris_data(folder_name + '/tetris_first_round.txt')\n",
    "    second_round_tetris_data = read_tetris_data(folder_name + '/tetris_second_round.txt')\n",
    "\n",
    "    p1p2r1 = merge_both_biosignals_with_tetris_results(first_round_ranged_biosignals, first_round_tetris_data, first_measurement_start_time)\n",
    "    p1p2r2 = merge_both_biosignals_with_tetris_results(second_round_ranged_biosignals, second_round_tetris_data, second_measurement_start_time)\n",
    "\n",
    "    p1r1 = merge_p1_biosignals_with_tetris_results(first_round_ranged_biosignals, first_round_tetris_data, first_measurement_start_time)\n",
    "    p2r1 = merge_p2_biosignals_with_tetris_results(first_round_ranged_biosignals, first_round_tetris_data, first_measurement_start_time)\n",
    "\n",
    "    p1r2 = merge_p1_biosignals_with_tetris_results(second_round_ranged_biosignals, second_round_tetris_data, second_measurement_start_time)\n",
    "    p2r2 = merge_p2_biosignals_with_tetris_results(second_round_ranged_biosignals, second_round_tetris_data, second_measurement_start_time)\n",
    "\n",
    "    return {\n",
    "        'biosignals' : biosignals,\n",
    "        'p1p2r1':p1p2r1,\n",
    "        'p1p2r2':p1p2r2,\n",
    "        'p1r1': p1r1,\n",
    "        'p2r1': p2r1,\n",
    "        'p1r2': p1r2,\n",
    "        'p2r2': p2r2,\n",
    "    }\n",
    "\n",
    "\n",
    "results = get_players_results(0, 62, 78, 137, 's01')"
   ],
   "metadata": {
    "collapsed": false,
    "pycharm": {
     "name": "#%%\n"
    }
   }
  }
 ],
 "metadata": {
  "kernelspec": {
   "display_name": "Python 3",
   "language": "python",
   "name": "python3"
  },
  "language_info": {
   "codemirror_mode": {
    "name": "ipython",
    "version": 3
   },
   "file_extension": ".py",
   "mimetype": "text/x-python",
   "name": "python",
   "nbconvert_exporter": "python",
   "pygments_lexer": "ipython3",
   "version": "3.7.6"
  }
 },
 "nbformat": 4,
 "nbformat_minor": 4
}