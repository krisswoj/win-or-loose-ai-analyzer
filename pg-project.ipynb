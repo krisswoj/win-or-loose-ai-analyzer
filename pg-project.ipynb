{
 "cells": [
  {
   "cell_type": "code",
   "execution_count": 1,
   "metadata": {
    "jupyter": {
     "outputs_hidden": false
    },
    "pycharm": {
     "is_executing": false,
     "name": "#%%\n"
    }
   },
   "outputs": [],
   "source": [
    "import matplotlib.pyplot as plt\n",
    "import numpy as np\n",
    "import pandas as pd\n",
    "import seaborn as sns\n",
    "\n",
    "import tensorflow as tf\n",
    "\n",
    "from tensorflow import keras\n",
    "from tensorflow.keras import layers\n",
    "from tensorflow.keras.layers.experimental import preprocessing\n",
    "\n",
    "# Make numpy printouts easier to read.\n",
    "np.set_printoptions(precision=3, suppress=True)\n"
   ]
  },
  {
   "cell_type": "code",
   "execution_count": 2,
   "metadata": {
    "jupyter": {
     "outputs_hidden": false
    },
    "pycharm": {
     "is_executing": false,
     "name": "#%%\n"
    }
   },
   "outputs": [
    {
     "name": "stdout",
     "text": [
      "2.5.0-dev20201227\n"
     ],
     "output_type": "stream"
    }
   ],
   "source": [
    "print(tf.__version__)\n",
    "oko = 'dupa'"
   ]
  },
  {
   "cell_type": "code",
   "execution_count": 3,
   "metadata": {
    "jupyter": {
     "outputs_hidden": false
    },
    "pycharm": {
     "is_executing": false,
     "name": "#%%\n"
    }
   },
   "outputs": [],
   "source": [
    "pd.set_option('display.max_columns', None)"
   ]
  },
  {
   "cell_type": "code",
   "execution_count": 42,
   "metadata": {
    "pycharm": {
     "is_executing": false,
     "name": "#%%\n"
    }
   },
   "outputs": [],
   "source": [
    "ra_dataset = pd.read_csv('WinOrLoose/E03_R02_S01.txt', sep=',', error_bad_lines=False, index_col=False, dtype='unicode')\n"
   ]
  },
  {
   "cell_type": "code",
   "execution_count": 43,
   "metadata": {
    "pycharm": {
     "is_executing": false
    }
   },
   "outputs": [],
   "source": [
    "dataset = ra_dataset.iloc[1:100,:12]"
   ]
  },
  {
   "cell_type": "code",
   "execution_count": 47,
   "outputs": [
    {
     "name": "stdout",
     "text": [
      "<class 'pandas.core.frame.DataFrame'>\nRangeIndex: 99 entries, 1 to 99\nData columns (total 12 columns):\n #   Column               Non-Null Count  Dtype  \n---  ------               --------------  -----  \n 0   Czas                 99 non-null     float64\n 1   A: BVP1              99 non-null     float64\n 2   B: BVP2              99 non-null     float64\n 3   C: EMG1              99 non-null     float64\n 4   D: EMG2              99 non-null     float64\n 5   E: Skin Cond         99 non-null     float64\n 6   F: Temp1             99 non-null     float64\n 7   G: Abd Resp          99 non-null     float64\n 8   H: Thor Resp         99 non-null     float64\n 9   I: Temp2             99 non-null     float64\n 10  SC-Pro/Flex - 1J     99 non-null     float64\n 11  Temp2 as % of value  99 non-null     float64\ndtypes: float64(12)\nmemory usage: 9.4 KB\n"
     ],
     "output_type": "stream"
    }
   ],
   "source": [
    "dataset.info()"
   ],
   "metadata": {
    "collapsed": false,
    "pycharm": {
     "name": "#%%\n",
     "is_executing": false
    }
   }
  },
  {
   "cell_type": "code",
   "execution_count": 45,
   "metadata": {
    "pycharm": {
     "is_executing": false
    }
   },
   "outputs": [
    {
     "data": {
      "text/plain": "          Czas A: BVP1 B: BVP2 C: EMG1 D: EMG2 E: Skin Cond F: Temp1  \\\n1   0.00390625   0.005   0.003  13.038   2.783        5.311   32.192   \n2   0.00781250   0.069   0.052  14.488   2.783        5.311   32.192   \n3   0.01171875   0.318   0.238  14.695   2.732        5.311   32.191   \n4   0.01562500   0.893   0.672  14.022   2.680        5.311   32.191   \n5   0.01953125   1.915   1.451  16.456   2.680        5.311   32.191   \n..         ...     ...     ...     ...     ...          ...      ...   \n95  0.37109375  37.792  35.919  13.556   2.835        5.314   32.189   \n96  0.37500000  37.708  35.932  14.643   2.835        5.313   32.189   \n97  0.37890625  37.624  35.947  15.938   2.783        5.313   32.189   \n98  0.38281250  37.541  35.962  17.440   2.783        5.313   32.189   \n99  0.38671875  37.459  35.976  18.735   2.680        5.313   32.189   \n\n   G: Abd Resp H: Thor Resp I: Temp2 SC-Pro/Flex - 1J Temp2 as % of value  \n1       11.800        9.778   32.815            1.749              33.485  \n2       11.800        9.779   32.815            1.749              33.485  \n3       11.800        9.779   32.815            1.749              33.485  \n4       11.801        9.780   32.815            1.749              33.485  \n5       11.801        9.780   32.815            1.749              33.485  \n..         ...          ...      ...              ...                 ...  \n95      11.865        9.597   32.819            1.753              33.488  \n96      11.868        9.594   32.819            1.754              33.488  \n97      11.870        9.592   32.819            1.754              33.488  \n98      11.873        9.590   32.819            1.754              33.488  \n99      11.876        9.588   32.819            1.754              33.488  \n\n[99 rows x 12 columns]",
      "text/html": "<div>\n<style scoped>\n    .dataframe tbody tr th:only-of-type {\n        vertical-align: middle;\n    }\n\n    .dataframe tbody tr th {\n        vertical-align: top;\n    }\n\n    .dataframe thead th {\n        text-align: right;\n    }\n</style>\n<table border=\"1\" class=\"dataframe\">\n  <thead>\n    <tr style=\"text-align: right;\">\n      <th></th>\n      <th>Czas</th>\n      <th>A: BVP1</th>\n      <th>B: BVP2</th>\n      <th>C: EMG1</th>\n      <th>D: EMG2</th>\n      <th>E: Skin Cond</th>\n      <th>F: Temp1</th>\n      <th>G: Abd Resp</th>\n      <th>H: Thor Resp</th>\n      <th>I: Temp2</th>\n      <th>SC-Pro/Flex - 1J</th>\n      <th>Temp2 as % of value</th>\n    </tr>\n  </thead>\n  <tbody>\n    <tr>\n      <th>1</th>\n      <td>0.00390625</td>\n      <td>0.005</td>\n      <td>0.003</td>\n      <td>13.038</td>\n      <td>2.783</td>\n      <td>5.311</td>\n      <td>32.192</td>\n      <td>11.800</td>\n      <td>9.778</td>\n      <td>32.815</td>\n      <td>1.749</td>\n      <td>33.485</td>\n    </tr>\n    <tr>\n      <th>2</th>\n      <td>0.00781250</td>\n      <td>0.069</td>\n      <td>0.052</td>\n      <td>14.488</td>\n      <td>2.783</td>\n      <td>5.311</td>\n      <td>32.192</td>\n      <td>11.800</td>\n      <td>9.779</td>\n      <td>32.815</td>\n      <td>1.749</td>\n      <td>33.485</td>\n    </tr>\n    <tr>\n      <th>3</th>\n      <td>0.01171875</td>\n      <td>0.318</td>\n      <td>0.238</td>\n      <td>14.695</td>\n      <td>2.732</td>\n      <td>5.311</td>\n      <td>32.191</td>\n      <td>11.800</td>\n      <td>9.779</td>\n      <td>32.815</td>\n      <td>1.749</td>\n      <td>33.485</td>\n    </tr>\n    <tr>\n      <th>4</th>\n      <td>0.01562500</td>\n      <td>0.893</td>\n      <td>0.672</td>\n      <td>14.022</td>\n      <td>2.680</td>\n      <td>5.311</td>\n      <td>32.191</td>\n      <td>11.801</td>\n      <td>9.780</td>\n      <td>32.815</td>\n      <td>1.749</td>\n      <td>33.485</td>\n    </tr>\n    <tr>\n      <th>5</th>\n      <td>0.01953125</td>\n      <td>1.915</td>\n      <td>1.451</td>\n      <td>16.456</td>\n      <td>2.680</td>\n      <td>5.311</td>\n      <td>32.191</td>\n      <td>11.801</td>\n      <td>9.780</td>\n      <td>32.815</td>\n      <td>1.749</td>\n      <td>33.485</td>\n    </tr>\n    <tr>\n      <th>...</th>\n      <td>...</td>\n      <td>...</td>\n      <td>...</td>\n      <td>...</td>\n      <td>...</td>\n      <td>...</td>\n      <td>...</td>\n      <td>...</td>\n      <td>...</td>\n      <td>...</td>\n      <td>...</td>\n      <td>...</td>\n    </tr>\n    <tr>\n      <th>95</th>\n      <td>0.37109375</td>\n      <td>37.792</td>\n      <td>35.919</td>\n      <td>13.556</td>\n      <td>2.835</td>\n      <td>5.314</td>\n      <td>32.189</td>\n      <td>11.865</td>\n      <td>9.597</td>\n      <td>32.819</td>\n      <td>1.753</td>\n      <td>33.488</td>\n    </tr>\n    <tr>\n      <th>96</th>\n      <td>0.37500000</td>\n      <td>37.708</td>\n      <td>35.932</td>\n      <td>14.643</td>\n      <td>2.835</td>\n      <td>5.313</td>\n      <td>32.189</td>\n      <td>11.868</td>\n      <td>9.594</td>\n      <td>32.819</td>\n      <td>1.754</td>\n      <td>33.488</td>\n    </tr>\n    <tr>\n      <th>97</th>\n      <td>0.37890625</td>\n      <td>37.624</td>\n      <td>35.947</td>\n      <td>15.938</td>\n      <td>2.783</td>\n      <td>5.313</td>\n      <td>32.189</td>\n      <td>11.870</td>\n      <td>9.592</td>\n      <td>32.819</td>\n      <td>1.754</td>\n      <td>33.488</td>\n    </tr>\n    <tr>\n      <th>98</th>\n      <td>0.38281250</td>\n      <td>37.541</td>\n      <td>35.962</td>\n      <td>17.440</td>\n      <td>2.783</td>\n      <td>5.313</td>\n      <td>32.189</td>\n      <td>11.873</td>\n      <td>9.590</td>\n      <td>32.819</td>\n      <td>1.754</td>\n      <td>33.488</td>\n    </tr>\n    <tr>\n      <th>99</th>\n      <td>0.38671875</td>\n      <td>37.459</td>\n      <td>35.976</td>\n      <td>18.735</td>\n      <td>2.680</td>\n      <td>5.313</td>\n      <td>32.189</td>\n      <td>11.876</td>\n      <td>9.588</td>\n      <td>32.819</td>\n      <td>1.754</td>\n      <td>33.488</td>\n    </tr>\n  </tbody>\n</table>\n<p>99 rows × 12 columns</p>\n</div>"
     },
     "metadata": {},
     "output_type": "execute_result",
     "execution_count": 45
    }
   ],
   "source": [
    "dataset"
   ]
  },
  {
   "cell_type": "code",
   "execution_count": 37,
   "metadata": {
    "pycharm": {
     "is_executing": false
    }
   },
   "outputs": [],
   "source": []
  },
  {
   "cell_type": "code",
   "execution_count": 46,
   "metadata": {
    "pycharm": {
     "is_executing": false
    }
   },
   "outputs": [],
   "source": [
    "\n",
    "def convertObjectToFloat():\n",
    "    for columnName in dataset.columns.values:\n",
    "            dataset[columnName] = pd.to_numeric(dataset[columnName], errors='coerce')\n",
    "        \n",
    "convertObjectToFloat()"
   ]
  },
  {
   "cell_type": "code",
   "execution_count": 48,
   "outputs": [
    {
     "data": {
      "text/plain": "<AxesSubplot:xlabel='Czas', ylabel='A: BVP1'>"
     },
     "metadata": {},
     "output_type": "execute_result",
     "execution_count": 48
    },
    {
     "data": {
      "text/plain": "<Figure size 1440x720 with 1 Axes>",
      "image/png": "[encoded data removed]"
     },
     "metadata": {
      "needs_background": "light"
     },
     "output_type": "display_data"
    }
   ],
   "source": [
    "plt.figure(figsize=(20,10))\n",
    "sns.lineplot(data=dataset, x=\"Czas\", y=\"A: BVP1\")\n"
   ],
   "metadata": {
    "collapsed": false,
    "pycharm": {
     "name": "#%%\n",
     "is_executing": false
    }
   }
  },
  {
   "cell_type": "code",
   "execution_count": 9,
   "metadata": {},
   "outputs": [],
   "source": []
  },
  {
   "cell_type": "code",
   "execution_count": 9,
   "metadata": {},
   "outputs": [],
   "source": []
  },
  {
   "cell_type": "code",
   "execution_count": 9,
   "metadata": {},
   "outputs": [],
   "source": []
  },
  {
   "cell_type": "code",
   "execution_count": 9,
   "metadata": {},
   "outputs": [],
   "source": []
  },
  {
   "cell_type": "code",
   "execution_count": 9,
   "metadata": {},
   "outputs": [],
   "source": []
  }
 ],
 "metadata": {
  "kernelspec": {
   "display_name": "Python 3",
   "language": "python",
   "name": "python3"
  },
  "language_info": {
   "codemirror_mode": {
    "name": "ipython",
    "version": 3
   },
   "file_extension": ".py",
   "mimetype": "text/x-python",
   "name": "python",
   "nbconvert_exporter": "python",
   "pygments_lexer": "ipython3",
   "version": "3.7.6"
  },
  "pycharm": {
   "stem_cell": {
    "cell_type": "raw",
    "source": [],
    "metadata": {
     "collapsed": false
    }
   }
  }
 },
 "nbformat": 4,
 "nbformat_minor": 4
}