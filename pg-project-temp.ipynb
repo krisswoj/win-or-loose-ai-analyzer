{
 "cells": [
  {
   "cell_type": "code",
   "execution_count": 26,
   "metadata": {
    "jupyter": {
     "outputs_hidden": false
    },
    "pycharm": {
     "name": "#%%\n"
    }
   },
   "outputs": [],
   "source": [
    "import matplotlib.pyplot as plt\n",
    "import numpy\n",
    "import numpy as np\n",
    "import pandas\n",
    "import pandas as pd\n",
    "import seaborn as sns\n",
    "import re\n",
    "\n",
    "import tensorflow as tf\n",
    "from pandas import DataFrame\n",
    "\n",
    "from tensorflow import keras\n",
    "from tensorflow.keras import layers\n",
    "from tensorflow.keras.layers.experimental import preprocessing\n",
    "\n",
    "# Make numpy printouts easier to read.\n",
    "np.set_printoptions(precision=3, suppress=True)"
   ]
  },
  {
   "cell_type": "code",
   "execution_count": 2,
   "metadata": {
    "jupyter": {
     "outputs_hidden": false
    },
    "pycharm": {
     "name": "#%%\n"
    }
   },
   "outputs": [
    {
     "name": "stdout",
     "output_type": "stream",
     "text": [
      "2.5.0-dev20201227\n"
     ]
    }
   ],
   "source": [
    "print(tf.__version__)"
   ]
  },
  {
   "cell_type": "code",
   "execution_count": 3,
   "metadata": {
    "jupyter": {
     "outputs_hidden": false
    },
    "pycharm": {
     "name": "#%%\n"
    }
   },
   "outputs": [],
   "source": [
    "pd.set_option('display.max_columns', None)"
   ]
  },
  {
   "cell_type": "code",
   "metadata": {
    "pycharm": {
     "name": "#%%\n"
    }
   },
   "source": [
    "dataset = pd.read_csv('WinOrLoose/tetris-result.txt', sep='\\t', error_bad_lines=False, index_col=False, dtype='unicode')"
   ],
   "execution_count": 4,
   "outputs": []
  },
  {
   "cell_type": "code",
   "execution_count": 9,
   "metadata": {},
   "outputs": [
    {
     "name": "stdout",
     "output_type": "stream",
     "text": [
      "<class 'pandas.core.frame.DataFrame'>\n",
      "RangeIndex: 72 entries, 0 to 71\n",
      "Data columns (total 3 columns):\n",
      " #   Column  Non-Null Count  Dtype \n",
      "---  ------  --------------  ----- \n",
      " 0   time    72 non-null     int64 \n",
      " 1   player  72 non-null     int64 \n",
      " 2   move    72 non-null     object\n",
      "dtypes: int64(2), object(1)\n",
      "memory usage: 1.8+ KB\n"
     ]
    }
   ],
   "source": [
    "dataset.info()"
   ]
  },
  {
   "cell_type": "code",
   "execution_count": 22,
   "outputs": [
    {
     "data": {
      "text/plain": "    time  player       move\n0      3       2  lines(18)\n1      3       1  lines(18)\n2      5       1  lines(18)\n3      5       2  lines(17)\n4      6       2  lines(17)\n..   ...     ...        ...\n67    60       2  lines(10)\n68    61       1   lines(0)\n69    62       1   lines(2)\n70    62       1  lines(-2)\n71    62       1        end\n\n[72 rows x 3 columns]",
      "text/html": "<div>\n<style scoped>\n    .dataframe tbody tr th:only-of-type {\n        vertical-align: middle;\n    }\n\n    .dataframe tbody tr th {\n        vertical-align: top;\n    }\n\n    .dataframe thead th {\n        text-align: right;\n    }\n</style>\n<table border=\"1\" class=\"dataframe\">\n  <thead>\n    <tr style=\"text-align: right;\">\n      <th></th>\n      <th>time</th>\n      <th>player</th>\n      <th>move</th>\n    </tr>\n  </thead>\n  <tbody>\n    <tr>\n      <th>0</th>\n      <td>3</td>\n      <td>2</td>\n      <td>lines(18)</td>\n    </tr>\n    <tr>\n      <th>1</th>\n      <td>3</td>\n      <td>1</td>\n      <td>lines(18)</td>\n    </tr>\n    <tr>\n      <th>2</th>\n      <td>5</td>\n      <td>1</td>\n      <td>lines(18)</td>\n    </tr>\n    <tr>\n      <th>3</th>\n      <td>5</td>\n      <td>2</td>\n      <td>lines(17)</td>\n    </tr>\n    <tr>\n      <th>4</th>\n      <td>6</td>\n      <td>2</td>\n      <td>lines(17)</td>\n    </tr>\n    <tr>\n      <th>...</th>\n      <td>...</td>\n      <td>...</td>\n      <td>...</td>\n    </tr>\n    <tr>\n      <th>67</th>\n      <td>60</td>\n      <td>2</td>\n      <td>lines(10)</td>\n    </tr>\n    <tr>\n      <th>68</th>\n      <td>61</td>\n      <td>1</td>\n      <td>lines(0)</td>\n    </tr>\n    <tr>\n      <th>69</th>\n      <td>62</td>\n      <td>1</td>\n      <td>lines(2)</td>\n    </tr>\n    <tr>\n      <th>70</th>\n      <td>62</td>\n      <td>1</td>\n      <td>lines(-2)</td>\n    </tr>\n    <tr>\n      <th>71</th>\n      <td>62</td>\n      <td>1</td>\n      <td>end</td>\n    </tr>\n  </tbody>\n</table>\n<p>72 rows × 3 columns</p>\n</div>"
     },
     "execution_count": 22,
     "metadata": {},
     "output_type": "execute_result"
    }
   ],
   "source": [
    "dataset"
   ],
   "metadata": {
    "collapsed": false,
    "pycharm": {
     "name": "#%%\n"
    }
   }
  },
  {
   "cell_type": "code",
   "execution_count": 24,
   "metadata": {},
   "outputs": [
    {
     "data": {
      "text/plain": "   time  player       move\n0     3       2  lines(18)\n1     3       1  lines(18)",
      "text/html": "<div>\n<style scoped>\n    .dataframe tbody tr th:only-of-type {\n        vertical-align: middle;\n    }\n\n    .dataframe tbody tr th {\n        vertical-align: top;\n    }\n\n    .dataframe thead th {\n        text-align: right;\n    }\n</style>\n<table border=\"1\" class=\"dataframe\">\n  <thead>\n    <tr style=\"text-align: right;\">\n      <th></th>\n      <th>time</th>\n      <th>player</th>\n      <th>move</th>\n    </tr>\n  </thead>\n  <tbody>\n    <tr>\n      <th>0</th>\n      <td>3</td>\n      <td>2</td>\n      <td>lines(18)</td>\n    </tr>\n    <tr>\n      <th>1</th>\n      <td>3</td>\n      <td>1</td>\n      <td>lines(18)</td>\n    </tr>\n  </tbody>\n</table>\n</div>"
     },
     "execution_count": 24,
     "metadata": {},
     "output_type": "execute_result"
    }
   ],
   "source": [
    "dataset.loc[dataset['time']==3]\n",
    "#x = dataset.tail(1)['time'].item()\n",
    "#x"
   ]
  },
  {
   "cell_type": "code",
   "execution_count": 8,
   "outputs": [],
   "source": [
    "dataset['time'] = pd.to_numeric(dataset['time'], errors='coerce')\n",
    "dataset['player'] = pd.to_numeric(dataset['player'], errors='coerce')"
   ],
   "metadata": {
    "collapsed": false,
    "pycharm": {
     "name": "#%%\n"
    }
   }
  },
  {
   "cell_type": "code",
   "execution_count": null,
   "metadata": {},
   "outputs": [],
   "source": [
    "def convertObjectToFloat():\n",
    "    for columnName in dataset.columns.values:\n",
    "            dataset[columnName] = pd.to_numeric(dataset[columnName], errors='coerce')\n",
    "\n",
    "convertObjectToFloat()"
   ]
  },
  {
   "cell_type": "code",
   "execution_count": 32,
   "metadata": {},
   "outputs": [
    {
     "data": {
      "text/plain": "[0,\n 0,\n 0,\n 0,\n 1,\n 1,\n 0,\n -1,\n -1,\n -1,\n 1,\n 1,\n 0,\n 0,\n 0,\n -1,\n -1,\n -1,\n 1,\n 1,\n 0,\n 0,\n 1,\n 1,\n 1,\n 0,\n 0,\n 1,\n 1,\n 1,\n -1,\n -1,\n -1,\n -1,\n -1,\n -1,\n 1,\n -1,\n 1,\n 1,\n 1,\n -1,\n -1,\n 1,\n 1,\n -1,\n -1,\n 1,\n 1,\n 1,\n 1,\n 1,\n 1,\n 1,\n 1,\n 1,\n 1,\n -1,\n 1,\n 1,\n -1,\n -1]"
     },
     "execution_count": 32,
     "metadata": {},
     "output_type": "execute_result"
    }
   ],
   "source": [
    "LINES_PATTERN = \"(?<=lines\\()[^)]*(?=\\))\"\n",
    "\n",
    "def get_tetris_result(data):\n",
    "    max_time = dataset.tail(1)['time'].item()\n",
    "    tetris_result = []\n",
    "    first_player = 1\n",
    "    first_player_lines = 0\n",
    "    second_player_lines = 0\n",
    "    i = 1\n",
    "\n",
    "    while i <= max_time:\n",
    "        temp_data = data.loc[dataset['time']==i]\n",
    "\n",
    "        if temp_data.empty:\n",
    "            method_name(first_player_lines,second_player_lines,tetris_result)\n",
    "            i+=1\n",
    "            continue\n",
    "\n",
    "        for index, row in temp_data.iterrows():\n",
    "            if re.search(LINES_PATTERN, row['move']):\n",
    "                line_number = re.findall(LINES_PATTERN, row['move'])[0]\n",
    "                if row['player'] == first_player:\n",
    "                    first_player_lines = line_number\n",
    "                else:\n",
    "                    second_player_lines = line_number\n",
    "                    \n",
    "        method_name(first_player_lines,second_player_lines,tetris_result)\n",
    "        i+=1\n",
    "        continue\n",
    "        \n",
    "    i+=1\n",
    "    return tetris_result\n",
    "\n",
    "def method_name(first_player_lines, second_player_lines, tetris_result):\n",
    "    if first_player_lines > second_player_lines:\n",
    "        tetris_result.append(1)\n",
    "    elif first_player_lines < second_player_lines:\n",
    "        tetris_result.append(-1)\n",
    "    else:\n",
    "        tetris_result.append(0)\n",
    "\n",
    "yy = get_tetris_result(dataset)\n",
    "yy"
   ]
  },
  {
   "cell_type": "code",
   "execution_count": null,
   "metadata": {},
   "outputs": [],
   "source": []
  },
  {
   "cell_type": "code",
   "execution_count": null,
   "metadata": {},
   "outputs": [],
   "source": []
  },
  {
   "cell_type": "code",
   "execution_count": null,
   "metadata": {},
   "outputs": [],
   "source": []
  },
  {
   "cell_type": "code",
   "execution_count": null,
   "metadata": {},
   "outputs": [],
   "source": []
  },
  {
   "cell_type": "code",
   "execution_count": null,
   "metadata": {},
   "outputs": [],
   "source": []
  },
  {
   "cell_type": "code",
   "execution_count": null,
   "metadata": {},
   "outputs": [],
   "source": []
  }
 ],
 "metadata": {
  "kernelspec": {
   "display_name": "Python 3",
   "language": "python",
   "name": "python3"
  },
  "language_info": {
   "codemirror_mode": {
    "name": "ipython",
    "version": 3
   },
   "file_extension": ".py",
   "mimetype": "text/x-python",
   "name": "python",
   "nbconvert_exporter": "python",
   "pygments_lexer": "ipython3",
   "version": "3.7.6"
  }
 },
 "nbformat": 4,
 "nbformat_minor": 4
}