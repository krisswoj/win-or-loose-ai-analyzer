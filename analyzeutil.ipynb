{
 "cells": [
  {
   "cell_type": "code",
   "execution_count": 1,
   "metadata": {
    "jupyter": {
     "outputs_hidden": false
    },
    "pycharm": {
     "name": "#%%\n"
    }
   },
   "outputs": [],
   "source": [
    "import matplotlib.pyplot as plt\n",
    "import numpy\n",
    "import numpy as np\n",
    "import pandas\n",
    "import pandas as pd\n",
    "import seaborn as sns\n",
    "import re\n",
    "\n",
    "import tensorflow as tf\n",
    "from pandas import DataFrame\n",
    "\n",
    "import nbimporter\n",
    "\n",
    "from tensorflow import keras\n",
    "from tensorflow.keras import layers\n",
    "from tensorflow.keras.layers.experimental import preprocessing\n",
    "\n",
    "# Make numpy printouts easier to read.\n",
    "np.set_printoptions(precision=3, suppress=True)\n",
    "pd.set_option('display.max_columns', None)"
   ]
  },
  {
   "cell_type": "code",
   "execution_count": 2,
   "outputs": [],
   "source": [
    "# def merge_biosignals_with_tetris_results(biosignals, tetris_results):\n",
    "#     tetris_max_time = len(tetris_results)\n",
    "#     bio_start_time = biosignals.head(1)['Czas'].item()\n",
    "#     bio_end_time = biosignals.tail(1)['Czas'].item()\n",
    "#\n",
    "#     if 0 > (tetris_max_time - (bio_end_time - bio_start_time)) or (tetris_max_time - (bio_end_time - bio_start_time)) > 1:\n",
    "#         raise ValueError('Tetris times are not compatible with biosignals times')\n",
    "#\n",
    "#     biosignals['tetris_result'] = pd.Series([0] * len(biosignals.index), index=biosignals.index)\n",
    "#     biosignals['tetris_result'] = pd.Series([0] * len(biosignals.index), index=biosignals.index)\n",
    "#\n",
    "# def fsdg(tetris_result, biosignals):\n",
    "#     biosignals['tetris_result'] = biosignals.apply(lambda x: )\n",
    "#\n",
    "#\n",
    "# biosignals = read_biosignal_data('s01/E03_R02_S01.txt')\n",
    "# range_biosignals = get_biosignal_in_range(biosignals, 0, 62)\n",
    "# tetris_data = read_tetris_data('s01/tetris_first_round.txt')\n",
    "# first_player_tetris_result = get_first_player_tetris_state(tetris_data)\n",
    "#\n",
    "#\n",
    "# merge_biosignals_with_tetris_results(range_biosignals, first_player_tetris_result)"
   ],
   "metadata": {
    "collapsed": false,
    "pycharm": {
     "name": "#%%\n"
    }
   }
  },
  {
   "cell_type": "code",
   "execution_count": 3,
   "outputs": [],
   "source": [
    "def get_biosignal_in_range(biosignals, first_range, second_range):\n",
    "    return biosignals.loc[(first_range <= biosignals['Czas']) & (biosignals['Czas'] < second_range)]"
   ],
   "metadata": {
    "collapsed": false,
    "pycharm": {
     "name": "#%%\n"
    }
   }
  },
  {
   "cell_type": "code",
   "execution_count": 4,
   "outputs": [],
   "source": [
    "def read_biosignal_data(biosignal_path):\n",
    "    biosignals = pd.read_csv(biosignal_path, sep=',', error_bad_lines=False, index_col=False, dtype='unicode').iloc[1:,:11]\n",
    "    for columnName in biosignals.columns.values:\n",
    "        biosignals[columnName] = pd.to_numeric(biosignals[columnName], errors='coerce')\n",
    "\n",
    "    return biosignals"
   ],
   "metadata": {
    "collapsed": false,
    "pycharm": {
     "name": "#%%\n"
    }
   }
  },
  {
   "cell_type": "code",
   "metadata": {
    "pycharm": {
     "name": "#%%\n"
    }
   },
   "source": [
    "def read_tetris_data(tetris_data_path):\n",
    "    dataset = pd.read_csv(tetris_data_path, sep='\\t', error_bad_lines=False, index_col=False, dtype='unicode')\n",
    "    dataset['time'] = pd.to_numeric(dataset['time'], errors='coerce')\n",
    "    dataset['player'] = pd.to_numeric(dataset['player'], errors='coerce')\n",
    "    \n",
    "    return dataset"
   ],
   "execution_count": 5,
   "outputs": []
  },
  {
   "cell_type": "code",
   "execution_count": 6,
   "metadata": {},
   "outputs": [],
   "source": [
    "LINES_PATTERN = \"(?<=lines\\()[^)]*(?=\\))\"\n",
    "\n",
    "def get_first_player_tetris_state(data):\n",
    "    max_time = data.tail(1)['time'].item()\n",
    "    tetris_result = []\n",
    "    first_player = 1\n",
    "    first_player_lines = 0\n",
    "    second_player_lines = 0\n",
    "    i = 0\n",
    "\n",
    "    while i < max_time:\n",
    "        temp_data = data.loc[data['time']==i]\n",
    "\n",
    "        if temp_data.empty:\n",
    "            method_name(first_player_lines,second_player_lines,tetris_result)\n",
    "            i+=1\n",
    "            continue\n",
    "\n",
    "        for index, row in temp_data.iterrows():\n",
    "            if re.search(LINES_PATTERN, row['move']):\n",
    "                line_number = int(re.findall(LINES_PATTERN, row['move'])[0])\n",
    "                if row['player'] == first_player:\n",
    "                    first_player_lines = line_number\n",
    "                else:\n",
    "                    second_player_lines = line_number\n",
    "                    \n",
    "        method_name(first_player_lines,second_player_lines,tetris_result)\n",
    "        i+=1\n",
    "\n",
    "    return tetris_result\n",
    "\n",
    "def method_name(first_player_lines, second_player_lines, tetris_result):\n",
    "    if first_player_lines > second_player_lines:\n",
    "        tetris_result.append(1)\n",
    "    elif first_player_lines < second_player_lines:\n",
    "        tetris_result.append(-1)\n",
    "    else:\n",
    "        tetris_result.append(0)\n",
    "\n",
    "\n",
    "tetris_data = read_tetris_data('s01/tetris_first_round.txt')\n",
    "first_player_tetris_result = get_first_player_tetris_state(tetris_data)"
   ]
  },
  {
   "cell_type": "code",
   "execution_count": 7,
   "metadata": {
    "pycharm": {
     "name": "#%%\n"
    }
   },
   "outputs": [],
   "source": [
    "def second_player_game_state(data):\n",
    "    first_player = get_first_player_tetris_state(data)\n",
    "\n",
    "    return [state * -1 for state in first_player]"
   ]
  },
  {
   "cell_type": "code",
   "execution_count": 8,
   "outputs": [
    {
     "name": "stderr",
     "output_type": "stream",
     "text": [
      "/Users/krzysztofwojdak/anaconda3/lib/python3.7/site-packages/ipykernel_launcher.py:11: SettingWithCopyWarning: \n",
      "A value is trying to be set on a copy of a slice from a DataFrame.\n",
      "Try using .loc[row_indexer,col_indexer] = value instead\n",
      "\n",
      "See the caveats in the documentation: https://pandas.pydata.org/pandas-docs/stable/user_guide/indexing.html#returning-a-view-versus-a-copy\n",
      "  # This is added back by InteractiveShellApp.init_path()\n",
      "/Users/krzysztofwojdak/anaconda3/lib/python3.7/site-packages/ipykernel_launcher.py:12: SettingWithCopyWarning: \n",
      "A value is trying to be set on a copy of a slice from a DataFrame.\n",
      "Try using .loc[row_indexer,col_indexer] = value instead\n",
      "\n",
      "See the caveats in the documentation: https://pandas.pydata.org/pandas-docs/stable/user_guide/indexing.html#returning-a-view-versus-a-copy\n",
      "  if sys.path[0] == '':\n"
     ]
    }
   ],
   "source": [
    "def merge_biosignals_with_tetris_results(biosignals, tetris_results):\n",
    "    tetris_max_time = len(tetris_results)\n",
    "    bio_start_time = biosignals.head(1)['Czas'].item()\n",
    "    bio_end_time = biosignals.tail(1)['Czas'].item()\n",
    "\n",
    "    if 0 > (tetris_max_time - (bio_end_time - bio_start_time)) or (tetris_max_time - (bio_end_time - bio_start_time)) > 1:\n",
    "        raise ValueError('Tetris times are not compatible with biosignals times')\n",
    "\n",
    "def insert_tetris_result(biosignals, tetris_result):\n",
    "\n",
    "    biosignals['tetris'] = biosignals.apply(lambda x: tetris_result[int(x['Czas'])], axis=1)\n",
    "    biosignals['tetris'] = biosignals['tetris'].map({-1: 'Lose', 0: 'Draw', 1: 'Win'})\n",
    "\n",
    "\n",
    "biosignals = read_biosignal_data('s01/E03_R02_S01.txt')\n",
    "ranged_biosignals = get_biosignal_in_range(biosignals, 0, 62)\n",
    "tetris_data = read_tetris_data('s01/tetris_first_round.txt')\n",
    "first_player_tetris_result = get_first_player_tetris_state(tetris_data)\n",
    "\n",
    "\n",
    "#merge_biosignals_with_tetris_results(range_biosignals, first_player_tetris_result)\n",
    "\n",
    "insert_tetris_result(ranged_biosignals, first_player_tetris_result)\n",
    "ranged_biosignals = pd.get_dummies(ranged_biosignals, prefix='', prefix_sep='')"
   ],
   "metadata": {
    "collapsed": false,
    "pycharm": {
     "name": "#%%\n"
    }
   }
  }
 ],
 "metadata": {
  "kernelspec": {
   "display_name": "Python 3",
   "language": "python",
   "name": "python3"
  },
  "language_info": {
   "codemirror_mode": {
    "name": "ipython",
    "version": 3
   },
   "file_extension": ".py",
   "mimetype": "text/x-python",
   "name": "python",
   "nbconvert_exporter": "python",
   "pygments_lexer": "ipython3",
   "version": "3.7.6"
  }
 },
 "nbformat": 4,
 "nbformat_minor": 4
}