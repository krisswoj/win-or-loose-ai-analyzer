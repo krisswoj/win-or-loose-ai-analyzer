{
 "cells": [
  {
   "cell_type": "code",
   "execution_count": 10,
   "outputs": [],
   "source": [
    "import matplotlib.pyplot as plt\n",
    "import numpy\n",
    "import numpy as np\n",
    "import pandas\n",
    "import pandas as pd\n",
    "import seaborn as sns\n",
    "import re\n",
    "\n",
    "import tensorflow as tf\n",
    "from pandas import DataFrame\n",
    "\n",
    "import nbimporter\n",
    "\n",
    "from tensorflow import keras\n",
    "from tensorflow.keras import layers\n",
    "from tensorflow.keras.layers.experimental import preprocessing\n",
    "\n",
    "# Make numpy printouts easier to read.\n",
    "np.set_printoptions(precision=3, suppress=True)\n",
    "pd.set_option('display.max_columns', None)"
   ],
   "metadata": {
    "collapsed": false,
    "pycharm": {
     "name": "#%%\n"
    }
   }
  },
  {
   "cell_type": "code",
   "execution_count": 11,
   "outputs": [],
   "source": [
    "def get_biosignal_in_range(biosignals, first_range, second_range):\n",
    "    return biosignals.loc[(first_range+2 <= biosignals['Czas']) & (biosignals['Czas'] < second_range+2)]"
   ],
   "metadata": {
    "collapsed": false,
    "pycharm": {
     "name": "#%%\n"
    }
   }
  },
  {
   "cell_type": "code",
   "execution_count": 12,
   "outputs": [],
   "source": [
    "def read_biosignal_data(biosignal_path):\n",
    "    biosignals = pd.read_csv(biosignal_path, sep=',', error_bad_lines=False, index_col=False, dtype='unicode').iloc[1:,:11]\n",
    "    for columnName in biosignals.columns.values:\n",
    "        biosignals[columnName] = pd.to_numeric(biosignals[columnName], errors='coerce')\n",
    "\n",
    "    return biosignals"
   ],
   "metadata": {
    "collapsed": false,
    "pycharm": {
     "name": "#%%\n"
    }
   }
  },
  {
   "cell_type": "code",
   "execution_count": 13,
   "outputs": [],
   "source": [
    "def read_tetris_data(tetris_data_path):\n",
    "    dataset = pd.read_csv(tetris_data_path, sep='\\t', error_bad_lines=False, index_col=False, dtype='unicode')\n",
    "    dataset['time'] = pd.to_numeric(dataset['time'], errors='coerce')\n",
    "    dataset['player'] = pd.to_numeric(dataset['player'], errors='coerce')\n",
    "    \n",
    "    return dataset"
   ],
   "metadata": {
    "collapsed": false,
    "pycharm": {
     "name": "#%%\n"
    }
   }
  },
  {
   "cell_type": "code",
   "execution_count": 14,
   "outputs": [],
   "source": [
    "LINES_PATTERN = \"(?<=lines\\()[^)]*(?=\\))\"\n",
    "\n",
    "def get_first_player_tetris_state(data):\n",
    "    max_time = data.tail(1)['time'].item()\n",
    "    tetris_result = []\n",
    "    first_player = 1\n",
    "    first_player_lines = 0\n",
    "    second_player_lines = 0\n",
    "    i = 0\n",
    "\n",
    "    while i < max_time:\n",
    "        temp_data = data.loc[data['time']==i]\n",
    "\n",
    "        if temp_data.empty:\n",
    "            method_name(first_player_lines,second_player_lines,tetris_result)\n",
    "            i+=1\n",
    "            continue\n",
    "\n",
    "        for index, row in temp_data.iterrows():\n",
    "            if re.search(LINES_PATTERN, row['move']):\n",
    "                line_number = int(re.findall(LINES_PATTERN, row['move'])[0])\n",
    "                if row['player'] == first_player:\n",
    "                    first_player_lines = line_number\n",
    "                else:\n",
    "                    second_player_lines = line_number\n",
    "                    \n",
    "        method_name(first_player_lines,second_player_lines,tetris_result)\n",
    "        i+=1\n",
    "\n",
    "    return tetris_result\n",
    "\n",
    "def method_name(first_player_lines, second_player_lines, tetris_result):\n",
    "    if first_player_lines > second_player_lines:\n",
    "        tetris_result.append(1)\n",
    "    elif first_player_lines < second_player_lines:\n",
    "        tetris_result.append(-1)\n",
    "    else:\n",
    "        tetris_result.append(0)"
   ],
   "metadata": {
    "collapsed": false,
    "pycharm": {
     "name": "#%%\n"
    }
   }
  },
  {
   "cell_type": "code",
   "execution_count": 15,
   "outputs": [],
   "source": [
    "def get_second_player_tetris_state(data):\n",
    "    first_player = get_first_player_tetris_state(data)\n",
    "\n",
    "    return [state * -1 for state in first_player]"
   ],
   "metadata": {
    "collapsed": false,
    "pycharm": {
     "name": "#%%\n"
    }
   }
  },
  {
   "cell_type": "code",
   "execution_count": 16,
   "outputs": [],
   "source": [
    "def merge_biosignals_with_tetris_results(biosignals, tetris_results, time_start):\n",
    "    tetris_max_time = len(tetris_results)\n",
    "    bio_start_time = biosignals.head(1)['Czas'].item()\n",
    "    bio_end_time = biosignals.tail(1)['Czas'].item()\n",
    "\n",
    "    if 0 > (tetris_max_time - (bio_end_time - bio_start_time)) or (tetris_max_time - (bio_end_time - bio_start_time)) > 1:\n",
    "        raise ValueError('Tetris times are not compatible with biosignals times')\n",
    "\n",
    "    biosignals_with_inserted_tetris_result = insert_tetris_result(biosignals, tetris_results, time_start)\n",
    "\n",
    "    return pd.get_dummies(biosignals_with_inserted_tetris_result, prefix='', prefix_sep='')\n",
    "\n",
    "def insert_tetris_result(biosignals, tetris_result, time_start):\n",
    "    merged_tetris_result_with_biosignals = biosignals.apply(lambda x: tetris_result[int(x['Czas'])-2-time_start], axis=1)\n",
    "    biosignals = biosignals.assign(tetris=merged_tetris_result_with_biosignals.values)\n",
    "    biosignals['tetris'] = biosignals['tetris'].map({-1: 'Lose', 0: 'Draw', 1: 'Win'})\n",
    "\n",
    "    return biosignals"
   ],
   "metadata": {
    "collapsed": false,
    "pycharm": {
     "name": "#%%\n"
    }
   }
  },
  {
   "cell_type": "code",
   "execution_count": 17,
   "outputs": [],
   "source": [
    "def get_players_results(first_measurement_start_time, first_measurement_end_time, second_measurement_start_time, second_measurement_end_time, folder_name):\n",
    "\n",
    "    biosignals = read_biosignal_data(folder_name + '/biosignals.txt')\n",
    "    first_round_ranged_biosignals = get_biosignal_in_range(biosignals, first_measurement_start_time, first_measurement_end_time)\n",
    "    second_round_ranged_biosignals = get_biosignal_in_range(biosignals, second_measurement_start_time, second_measurement_end_time)\n",
    "\n",
    "    first_round_tetris_data = read_tetris_data(folder_name + '/tetris_first_round.txt')\n",
    "    second_round_tetris_data = read_tetris_data(folder_name + '/tetris_second_round.txt')\n",
    "\n",
    "    first_player_tetris_state_first_round = get_first_player_tetris_state(first_round_tetris_data)\n",
    "    second_player_tetris_state_first_round = get_second_player_tetris_state(first_round_tetris_data)\n",
    "    first_player_tetris_state_second_round = get_first_player_tetris_state(second_round_tetris_data)\n",
    "    second_player_tetris_state_second_round = get_second_player_tetris_state(second_round_tetris_data)\n",
    "\n",
    "\n",
    "    first_player_first_round = merge_biosignals_with_tetris_results(first_round_ranged_biosignals, first_player_tetris_state_first_round, first_measurement_start_time)\n",
    "    second_player_first_round = merge_biosignals_with_tetris_results(first_round_ranged_biosignals, second_player_tetris_state_first_round, first_measurement_start_time)\n",
    "\n",
    "    first_player_second_round = merge_biosignals_with_tetris_results(second_round_ranged_biosignals, first_player_tetris_state_second_round, second_measurement_start_time)\n",
    "    second_player_second_round = merge_biosignals_with_tetris_results(second_round_ranged_biosignals, second_player_tetris_state_second_round, second_measurement_start_time)\n",
    "\n",
    "    return {\n",
    "        'p1r1': first_player_first_round,\n",
    "        'p2r1': second_player_first_round,\n",
    "        'p1r2': first_player_second_round,\n",
    "        'p2r2': second_player_second_round,\n",
    "    }\n"
   ],
   "metadata": {
    "collapsed": false,
    "pycharm": {
     "name": "#%%\n"
    }
   }
  },
  {
   "cell_type": "code",
   "execution_count": 18,
   "outputs": [],
   "source": [
    "dupa11 = get_players_results(0, 62, 78, 137, 's01')"
   ],
   "metadata": {
    "collapsed": false,
    "pycharm": {
     "name": "#%%\n"
    }
   }
  }
 ],
 "metadata": {
  "kernelspec": {
   "display_name": "Python 3",
   "language": "python",
   "name": "python3"
  },
  "language_info": {
   "codemirror_mode": {
    "name": "ipython",
    "version": 3
   },
   "file_extension": ".py",
   "mimetype": "text/x-python",
   "name": "python",
   "nbconvert_exporter": "python",
   "pygments_lexer": "ipython3",
   "version": "3.7.6"
  }
 },
 "nbformat": 4,
 "nbformat_minor": 4
}